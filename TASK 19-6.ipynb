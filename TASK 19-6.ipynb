{
 "cells": [
  {
   "cell_type": "markdown",
   "id": "82331e65",
   "metadata": {},
   "source": [
    "#### Python Data Structures "
   ]
  },
  {
   "cell_type": "markdown",
   "id": "4bcf2f3d",
   "metadata": {},
   "source": [
    "* Python Collection Objects\n",
    "* List\n",
    "* Tuple\n",
    "* Set\n",
    "* Dictionary\n",
    "* List Comprehension\n"
   ]
  },
  {
   "cell_type": "markdown",
   "id": "5197c7cf",
   "metadata": {},
   "source": [
    "## List"
   ]
  },
  {
   "cell_type": "markdown",
   "id": "7e51d0fd",
   "metadata": {},
   "source": [
    "##### Creating list "
   ]
  },
  {
   "cell_type": "code",
   "execution_count": 2,
   "id": "0fae67b3",
   "metadata": {},
   "outputs": [
    {
     "data": {
      "text/plain": [
       "['milk', 'bread', 'eggs']"
      ]
     },
     "execution_count": 2,
     "metadata": {},
     "output_type": "execute_result"
    }
   ],
   "source": [
    "ls = [\"milk\", \"bread\", \"eggs\"]\n",
    "ls"
   ]
  },
  {
   "cell_type": "markdown",
   "id": "5a4ea7d9",
   "metadata": {},
   "source": [
    "#### Indexing "
   ]
  },
  {
   "cell_type": "code",
   "execution_count": 3,
   "id": "436c5688",
   "metadata": {},
   "outputs": [
    {
     "name": "stdout",
     "output_type": "stream",
     "text": [
      "bread\n"
     ]
    }
   ],
   "source": [
    "print(ls[1]) "
   ]
  },
  {
   "cell_type": "markdown",
   "id": "2947197e",
   "metadata": {},
   "source": [
    "##### Negative Access"
   ]
  },
  {
   "cell_type": "code",
   "execution_count": 5,
   "id": "cbf52186",
   "metadata": {},
   "outputs": [
    {
     "name": "stdout",
     "output_type": "stream",
     "text": [
      "eggs\n"
     ]
    }
   ],
   "source": [
    "print(ls[-1])"
   ]
  },
  {
   "cell_type": "markdown",
   "id": "73d9752f",
   "metadata": {},
   "source": [
    "##### Slicing"
   ]
  },
  {
   "cell_type": "code",
   "execution_count": 7,
   "id": "f010b763",
   "metadata": {},
   "outputs": [
    {
     "name": "stdout",
     "output_type": "stream",
     "text": [
      "['milk', 'bread']\n"
     ]
    }
   ],
   "source": [
    "print(ls[:2])"
   ]
  },
  {
   "cell_type": "code",
   "execution_count": 9,
   "id": "0e4a5ad5",
   "metadata": {},
   "outputs": [
    {
     "data": {
      "text/plain": [
       "['milk', 'butter', 'eggs']"
      ]
     },
     "execution_count": 9,
     "metadata": {},
     "output_type": "execute_result"
    }
   ],
   "source": [
    "## Modifing Items\n",
    "\n",
    "ls[1]= \"butter\"\n",
    "ls"
   ]
  },
  {
   "cell_type": "code",
   "execution_count": 11,
   "id": "82b22a1e",
   "metadata": {},
   "outputs": [
    {
     "data": {
      "text/plain": [
       "['milk', 'butter', 'eggs', 'chees', 'chees']"
      ]
     },
     "execution_count": 11,
     "metadata": {},
     "output_type": "execute_result"
    }
   ],
   "source": [
    "## Adding items append \n",
    "\n",
    "ls.append(\"chees\")\n",
    "ls"
   ]
  },
  {
   "cell_type": "code",
   "execution_count": 13,
   "id": "1fda39cd",
   "metadata": {},
   "outputs": [
    {
     "data": {
      "text/plain": [
       "['milk', 'coffee', 'coffee', 'butter', 'eggs', 'chees', 'chees']"
      ]
     },
     "execution_count": 13,
     "metadata": {},
     "output_type": "execute_result"
    }
   ],
   "source": [
    "### inserting iteme\n",
    "\n",
    "ls.insert(1,\"coffee\")\n",
    "ls"
   ]
  },
  {
   "cell_type": "code",
   "execution_count": 15,
   "id": "9d36f69c",
   "metadata": {},
   "outputs": [
    {
     "data": {
      "text/plain": [
       "['milk',\n",
       " 'coffee',\n",
       " 'coffee',\n",
       " 'butter',\n",
       " 'eggs',\n",
       " 'chees',\n",
       " 'chees',\n",
       " 'jam',\n",
       " 'juice',\n",
       " 'jam',\n",
       " 'juice']"
      ]
     },
     "execution_count": 15,
     "metadata": {},
     "output_type": "execute_result"
    }
   ],
   "source": [
    "### Extending List \n",
    "\n",
    "ls.extend([\"jam\",\"juice\"])\n",
    "ls"
   ]
  },
  {
   "cell_type": "code",
   "execution_count": 16,
   "id": "6d1287f1",
   "metadata": {},
   "outputs": [
    {
     "data": {
      "text/plain": [
       "['coffee',\n",
       " 'coffee',\n",
       " 'butter',\n",
       " 'eggs',\n",
       " 'chees',\n",
       " 'chees',\n",
       " 'jam',\n",
       " 'juice',\n",
       " 'jam',\n",
       " 'juice']"
      ]
     },
     "execution_count": 16,
     "metadata": {},
     "output_type": "execute_result"
    }
   ],
   "source": [
    "## Removing by Value\n",
    "\n",
    "ls.remove(\"milk\")\n",
    "ls"
   ]
  },
  {
   "cell_type": "code",
   "execution_count": 17,
   "id": "b5c07f2d",
   "metadata": {},
   "outputs": [
    {
     "data": {
      "text/plain": [
       "['coffee', 'butter', 'eggs', 'chees', 'chees', 'jam', 'juice', 'jam', 'juice']"
      ]
     },
     "execution_count": 17,
     "metadata": {},
     "output_type": "execute_result"
    }
   ],
   "source": [
    "### Removing by index pop \n",
    "\n",
    "ls.pop(0)\n",
    "ls"
   ]
  },
  {
   "cell_type": "code",
   "execution_count": 18,
   "id": "e2af6d96",
   "metadata": {},
   "outputs": [],
   "source": [
    "###### deleting with del\n",
    "del ls[2]"
   ]
  },
  {
   "cell_type": "code",
   "execution_count": 19,
   "id": "5ef26cae",
   "metadata": {},
   "outputs": [],
   "source": [
    "### clearing the list \n",
    "\n",
    "ls.clear()"
   ]
  },
  {
   "cell_type": "code",
   "execution_count": 20,
   "id": "9c306d69",
   "metadata": {},
   "outputs": [
    {
     "data": {
      "text/plain": [
       "0"
      ]
     },
     "execution_count": 20,
     "metadata": {},
     "output_type": "execute_result"
    }
   ],
   "source": [
    "## finding the length \n",
    "\n",
    "len(ls)"
   ]
  },
  {
   "cell_type": "code",
   "execution_count": 21,
   "id": "f1bb5c2b",
   "metadata": {},
   "outputs": [
    {
     "data": {
      "text/plain": [
       "[10, 20, 30, 40, 40, 50, 50, 60, 60, 70, 70, 70, 80, 80]"
      ]
     },
     "execution_count": 21,
     "metadata": {},
     "output_type": "execute_result"
    }
   ],
   "source": [
    "## # soritng the list\n",
    "\n",
    "marks = [10,20,50,30,60,80,40,50,60,70,70,40,70,80]\n",
    "d=sorted(marks)\n",
    "d"
   ]
  },
  {
   "cell_type": "code",
   "execution_count": 23,
   "id": "4c0b182c",
   "metadata": {},
   "outputs": [
    {
     "data": {
      "text/plain": [
       "[80, 80, 70, 70, 70, 60, 60, 50, 50, 40, 40, 30, 20, 10]"
      ]
     },
     "execution_count": 23,
     "metadata": {},
     "output_type": "execute_result"
    }
   ],
   "source": [
    "### sorting in reverse\n",
    "\n",
    "d.sort(reverse=True)\n",
    "d"
   ]
  },
  {
   "cell_type": "code",
   "execution_count": 24,
   "id": "b3d3b666",
   "metadata": {},
   "outputs": [
    {
     "data": {
      "text/plain": [
       "[10, 20, 30, 40, 40, 50, 50, 60, 60, 70, 70, 70, 80, 80]"
      ]
     },
     "execution_count": 24,
     "metadata": {},
     "output_type": "execute_result"
    }
   ],
   "source": [
    "### Reversing a list \n",
    "\n",
    "d.reverse()\n",
    "d"
   ]
  },
  {
   "cell_type": "code",
   "execution_count": 25,
   "id": "110b2a2a",
   "metadata": {},
   "outputs": [
    {
     "data": {
      "text/plain": [
       "[10, 20, 30, 40, 40, 50, 50, 60, 60, 70, 70, 70, 80, 80]"
      ]
     },
     "execution_count": 25,
     "metadata": {},
     "output_type": "execute_result"
    }
   ],
   "source": [
    "### copying a list \n",
    "backup = d.copy()\n",
    "backup"
   ]
  },
  {
   "cell_type": "code",
   "execution_count": 26,
   "id": "02c1730f",
   "metadata": {},
   "outputs": [
    {
     "data": {
      "text/plain": [
       "2"
      ]
     },
     "execution_count": 26,
     "metadata": {},
     "output_type": "execute_result"
    }
   ],
   "source": [
    "### Counting Occurance \n",
    "\n",
    "fruits = [\"apple\", \"banana\", \"apple\"]\n",
    "fruits.count(\"apple\") "
   ]
  },
  {
   "cell_type": "code",
   "execution_count": 27,
   "id": "46565762",
   "metadata": {},
   "outputs": [
    {
     "data": {
      "text/plain": [
       "1"
      ]
     },
     "execution_count": 27,
     "metadata": {},
     "output_type": "execute_result"
    }
   ],
   "source": [
    "## finding index \n",
    "\n",
    "fruits.index(\"banana\") "
   ]
  },
  {
   "cell_type": "markdown",
   "id": "40d26531",
   "metadata": {},
   "source": [
    "#### How do you remove duplication from list "
   ]
  },
  {
   "cell_type": "code",
   "execution_count": 29,
   "id": "23151d6a",
   "metadata": {},
   "outputs": [
    {
     "name": "stdout",
     "output_type": "stream",
     "text": [
      "['b@example.com', 'a@example.com']\n"
     ]
    }
   ],
   "source": [
    "emails = [\"a@example.com\", \"b@example.com\", \"a@example.com\"]\n",
    "unique_emails = list(set(emails))\n",
    "print(unique_emails)"
   ]
  },
  {
   "cell_type": "markdown",
   "id": "5c1643ad",
   "metadata": {},
   "source": [
    "####  How can you reverse a list without using reverse()"
   ]
  },
  {
   "cell_type": "code",
   "execution_count": 30,
   "id": "c660a811",
   "metadata": {},
   "outputs": [
    {
     "name": "stdout",
     "output_type": "stream",
     "text": [
      "['order3', 'order2', 'order1']\n"
     ]
    }
   ],
   "source": [
    "orders = [\"order1\", \"order2\", \"order3\"]\n",
    "reversed_orders = orders[::-1]\n",
    "print(reversed_orders)"
   ]
  },
  {
   "cell_type": "markdown",
   "id": "a7a79db2",
   "metadata": {},
   "source": [
    "####  How do you find the second largest number in a list?"
   ]
  },
  {
   "cell_type": "code",
   "execution_count": 31,
   "id": "a30b1f92",
   "metadata": {},
   "outputs": [
    {
     "name": "stdout",
     "output_type": "stream",
     "text": [
      "95\n"
     ]
    }
   ],
   "source": [
    "scores = [90, 87, 99, 95]\n",
    "scores = list(set(scores))  # remove duplicates\n",
    "scores.sort()\n",
    "print(scores[-2])"
   ]
  },
  {
   "cell_type": "markdown",
   "id": "190b4249",
   "metadata": {},
   "source": [
    "#### Write a Python program to count occurrences of each item in a list."
   ]
  },
  {
   "cell_type": "code",
   "execution_count": 32,
   "id": "01592c4a",
   "metadata": {},
   "outputs": [
    {
     "name": "stdout",
     "output_type": "stream",
     "text": [
      "Counter({'pen': 2, 'book': 2, 'pencil': 1})\n"
     ]
    }
   ],
   "source": [
    "from collections import Counter\n",
    "\n",
    "products = [\"pen\", \"pen\", \"book\", \"pencil\", \"book\"]\n",
    "product_count = Counter(products)\n",
    "print(product_count)"
   ]
  },
  {
   "cell_type": "markdown",
   "id": "bc499713",
   "metadata": {},
   "source": [
    "####   Write a program to find common elements between two lists."
   ]
  },
  {
   "cell_type": "code",
   "execution_count": 33,
   "id": "3de4bae8",
   "metadata": {},
   "outputs": [
    {
     "name": "stdout",
     "output_type": "stream",
     "text": [
      "['mouse', 'book']\n"
     ]
    }
   ],
   "source": [
    "inventory = [\"pen\", \"book\", \"mouse\"]\n",
    "ordered = [\"book\", \"mouse\", \"keyboard\"]\n",
    "common = list(set(inventory) & set(ordered))\n",
    "print(common)"
   ]
  },
  {
   "cell_type": "markdown",
   "id": "f39c743a",
   "metadata": {},
   "source": [
    "#### Write a program to separate even and odd numbers in a list."
   ]
  },
  {
   "cell_type": "code",
   "execution_count": 34,
   "id": "8d28ed2b",
   "metadata": {},
   "outputs": [
    {
     "name": "stdout",
     "output_type": "stream",
     "text": [
      "Even: [2, 4, 6]\n",
      "Odd: [1, 3, 5]\n"
     ]
    }
   ],
   "source": [
    "numbers = [1, 2, 3, 4, 5, 6]\n",
    "even = [n for n in numbers if n % 2 == 0]\n",
    "odd = [n for n in numbers if n % 2 != 0]\n",
    "print(\"Even:\", even)\n",
    "print(\"Odd:\", odd)"
   ]
  },
  {
   "cell_type": "markdown",
   "id": "2afcb2bc",
   "metadata": {},
   "source": [
    "## Tuple"
   ]
  },
  {
   "cell_type": "code",
   "execution_count": 36,
   "id": "4750919a",
   "metadata": {},
   "outputs": [
    {
     "data": {
      "text/plain": [
       "('localhost', 8080)"
      ]
     },
     "execution_count": 36,
     "metadata": {},
     "output_type": "execute_result"
    }
   ],
   "source": [
    "config = (\"localhost\", 8080)\n",
    "config"
   ]
  },
  {
   "cell_type": "code",
   "execution_count": 37,
   "id": "91b44841",
   "metadata": {},
   "outputs": [
    {
     "name": "stdout",
     "output_type": "stream",
     "text": [
      "Year: 2025\n",
      "Month: 6\n"
     ]
    }
   ],
   "source": [
    "## How do you access elements in a tuple?.\n",
    "\n",
    "date = (2025, 6, 19)\n",
    "print(\"Year:\", date[0])\n",
    "print(\"Month:\", date[1])"
   ]
  },
  {
   "cell_type": "code",
   "execution_count": 38,
   "id": "c5b529a0",
   "metadata": {},
   "outputs": [
    {
     "name": "stdout",
     "output_type": "stream",
     "text": [
      "('Alice', 'Bob')\n"
     ]
    }
   ],
   "source": [
    " #Can you convert a list to a tuple and vice versa?\n",
    "\n",
    "guest_list = [\"Alice\", \"Bob\"]\n",
    "final_guest_list = tuple(guest_list)\n",
    "print(final_guest_list)"
   ]
  },
  {
   "cell_type": "code",
   "execution_count": 39,
   "id": "e2f26c6f",
   "metadata": {},
   "outputs": [
    {
     "name": "stdout",
     "output_type": "stream",
     "text": [
      "Max: 92\n",
      "Min: 76\n",
      "Count: 4\n"
     ]
    }
   ],
   "source": [
    "## How do you find the length, max, and min of a tuple?\n",
    "\n",
    "marks = (88, 76, 92, 85)\n",
    "print(\"Max:\", max(marks))\n",
    "print(\"Min:\", min(marks))\n",
    "print(\"Count:\", len(marks))"
   ]
  },
  {
   "cell_type": "code",
   "execution_count": 40,
   "id": "0a93a0b8",
   "metadata": {},
   "outputs": [
    {
     "name": "stdout",
     "output_type": "stream",
     "text": [
      "3\n"
     ]
    }
   ],
   "source": [
    "# How to count occurrences of an element in a tuple?\n",
    "\n",
    "responses = (1, 2, 1, 3, 1)\n",
    "print(responses.count(1))  "
   ]
  },
  {
   "cell_type": "markdown",
   "id": "12727f9a",
   "metadata": {},
   "source": [
    "## SET"
   ]
  },
  {
   "cell_type": "code",
   "execution_count": 41,
   "id": "7eb8571f",
   "metadata": {},
   "outputs": [
    {
     "name": "stdout",
     "output_type": "stream",
     "text": [
      "{'b@x.com', 'a@x.com'}\n"
     ]
    }
   ],
   "source": [
    "emails = [\"a@x.com\", \"b@x.com\", \"a@x.com\"]\n",
    "unique_emails = set(emails)\n",
    "print(unique_emails) "
   ]
  },
  {
   "cell_type": "code",
   "execution_count": 42,
   "id": "2da31b6b",
   "metadata": {},
   "outputs": [
    {
     "name": "stdout",
     "output_type": "stream",
     "text": [
      "{'u3', 'u1'}\n"
     ]
    }
   ],
   "source": [
    "## How do you add and remove items in a set?\n",
    "\n",
    "active_users = {\"u1\", \"u2\"}\n",
    "active_users.add(\"u3\")        # user u3 logs in\n",
    "active_users.discard(\"u2\")    # user u2 logs out\n",
    "print(active_users)  "
   ]
  },
  {
   "cell_type": "code",
   "execution_count": 43,
   "id": "5b6be452",
   "metadata": {},
   "outputs": [
    {
     "name": "stdout",
     "output_type": "stream",
     "text": [
      "{'bob'}\n"
     ]
    }
   ],
   "source": [
    "# How do you find common elements between two sets?\n",
    "\n",
    "registered = {\"alice\", \"bob\", \"charlie\"}\n",
    "subscribers = {\"bob\", \"diana\"}\n",
    "common = registered & subscribers\n",
    "print(common)  "
   ]
  },
  {
   "cell_type": "code",
   "execution_count": 44,
   "id": "562cafa0",
   "metadata": {},
   "outputs": [
    {
     "name": "stdout",
     "output_type": "stream",
     "text": [
      "{101, 102, 103, 104}\n"
     ]
    }
   ],
   "source": [
    "# How do you get all unique items from two collections (union)?\n",
    "\n",
    "warehouse_a = {101, 102, 103}\n",
    "warehouse_b = {103, 104}\n",
    "all_products = warehouse_a | warehouse_b\n",
    "print(all_products) "
   ]
  },
  {
   "cell_type": "code",
   "execution_count": 45,
   "id": "c99598f6",
   "metadata": {},
   "outputs": [
    {
     "name": "stdout",
     "output_type": "stream",
     "text": [
      "set()\n"
     ]
    }
   ],
   "source": [
    "# How do you remove all items from a set?\n",
    "\n",
    "processed_orders = {5001, 5002, 5003}\n",
    "processed_orders.clear()\n",
    "print(processed_orders) "
   ]
  },
  {
   "cell_type": "markdown",
   "id": "8b7bdd6b",
   "metadata": {},
   "source": [
    "## Dictionary"
   ]
  },
  {
   "cell_type": "code",
   "execution_count": 46,
   "id": "d39bf77d",
   "metadata": {},
   "outputs": [
    {
     "name": "stdout",
     "output_type": "stream",
     "text": [
      "85\n"
     ]
    }
   ],
   "source": [
    "grades = {\"Math\": 90, \"Physics\": 85, \"Chemistry\": 92}\n",
    "print(grades[\"Physics\"]) "
   ]
  },
  {
   "cell_type": "code",
   "execution_count": 47,
   "id": "082f284b",
   "metadata": {},
   "outputs": [
    {
     "name": "stdout",
     "output_type": "stream",
     "text": [
      "{'Alice': 70000, 'Bob': 68000, 'Charlie': 72000}\n"
     ]
    }
   ],
   "source": [
    " #How do you add or update an entry?\n",
    "\n",
    "salaries = {\"Alice\": 70000, \"Bob\": 65000}\n",
    "salaries[\"Charlie\"] = 72000      # add\n",
    "salaries[\"Bob\"] = 68000          # update\n",
    "print(salaries)"
   ]
  },
  {
   "cell_type": "code",
   "execution_count": 48,
   "id": "78fd9e1b",
   "metadata": {},
   "outputs": [
    {
     "name": "stdout",
     "output_type": "stream",
     "text": [
      "{'theme': 'light', 'notifications': False, 'font_size': 14}\n"
     ]
    }
   ],
   "source": [
    "# How do you merge two dictionaries?\n",
    "\n",
    "defaults = {\"theme\": \"light\", \"notifications\": True}\n",
    "user_prefs = {\"notifications\": False, \"font_size\": 14}\n",
    "combined = {**defaults, **user_prefs}\n",
    "print(combined)"
   ]
  },
  {
   "cell_type": "code",
   "execution_count": 49,
   "id": "3bee229c",
   "metadata": {},
   "outputs": [
    {
     "name": "stdout",
     "output_type": "stream",
     "text": [
      "{'pen': 1.5, 'notebook': 2.0, 'eraser': 0.5}\n"
     ]
    }
   ],
   "source": [
    "products = [(\"pen\", 1.5), (\"notebook\", 2.0), (\"eraser\", 0.5)]\n",
    "price_map = {name: price for name, price in products}\n",
    "print(price_map)"
   ]
  },
  {
   "cell_type": "code",
   "execution_count": 50,
   "id": "44a825de",
   "metadata": {},
   "outputs": [
    {
     "name": "stdout",
     "output_type": "stream",
     "text": [
      "{'apple': 2, 'banana': 2, 'orange': 1}\n"
     ]
    }
   ],
   "source": [
    "# How do you handle missing keys automatically?\n",
    "\n",
    "from collections import defaultdict\n",
    "\n",
    "text = [\"apple\", \"banana\", \"apple\", \"orange\", \"banana\"]\n",
    "count = defaultdict(int)\n",
    "for word in text:\n",
    "    count[word] += 1\n",
    "print(dict(count))"
   ]
  },
  {
   "cell_type": "markdown",
   "id": "15eb38bd",
   "metadata": {},
   "source": [
    "### List Comprehension"
   ]
  },
  {
   "cell_type": "code",
   "execution_count": 55,
   "id": "f8d3c203",
   "metadata": {},
   "outputs": [
    {
     "name": "stdout",
     "output_type": "stream",
     "text": [
      "1. Squares: [1, 4, 9, 16, 25, 36, 49, 64, 81, 100]\n"
     ]
    }
   ],
   "source": [
    " # 1. Squares of Numbers (1–10)\n",
    "squares = [x**2 for x in range(1, 11)]\n",
    "print(\"1. Squares:\", squares)"
   ]
  },
  {
   "cell_type": "code",
   "execution_count": 56,
   "id": "7828b7c6",
   "metadata": {},
   "outputs": [
    {
     "name": "stdout",
     "output_type": "stream",
     "text": [
      "2. Even Customer IDs: [202, 404]\n"
     ]
    }
   ],
   "source": [
    "# 2. Filter Even Numbers from a list of customer IDs\n",
    "customer_ids = [101, 202, 303, 404, 505]\n",
    "evens = [cid for cid in customer_ids if cid % 2 == 0]\n",
    "print(\"2. Even Customer IDs:\", evens)"
   ]
  },
  {
   "cell_type": "code",
   "execution_count": 57,
   "id": "3a91e487",
   "metadata": {},
   "outputs": [
    {
     "name": "stdout",
     "output_type": "stream",
     "text": [
      "3. Transaction Tags: ['low', 'high', 'low', 'low', 'high']\n"
     ]
    }
   ],
   "source": [
    "# 3. Conditional Expression: tag transactions as \"high\" or \"low\"\n",
    "transactions = [250, 1200, 75, 980, 1500]\n",
    "tags = [\"high\" if amt > 1000 else \"low\" for amt in transactions]\n",
    "print(\"3. Transaction Tags:\", tags)"
   ]
  },
  {
   "cell_type": "code",
   "execution_count": 58,
   "id": "f5e89f87",
   "metadata": {},
   "outputs": [
    {
     "name": "stdout",
     "output_type": "stream",
     "text": [
      "5. Emails: ['alice@example.com', 'bob@example.com', 'carol@example.com']\n"
     ]
    }
   ],
   "source": [
    "# 4. Extract email addresses from a list of user dicts\n",
    "users = [\n",
    "    {\"id\": 1, \"email\": \"alice@example.com\"},\n",
    "    {\"id\": 2, \"email\": \"bob@example.com\"},\n",
    "    {\"id\": 3, \"email\": \"carol@example.com\"}\n",
    "]\n",
    "emails = [user[\"email\"] for user in users]\n",
    "print(\"5. Emails:\", emails)"
   ]
  },
  {
   "cell_type": "code",
   "execution_count": 59,
   "id": "763e32ff",
   "metadata": {},
   "outputs": [
    {
     "name": "stdout",
     "output_type": "stream",
     "text": [
      "7. Transposed Matrix: [[1, 4, 7], [2, 5, 8], [3, 6, 9]]\n"
     ]
    }
   ],
   "source": [
    "# 5. Transpose a 3×3 matrix\n",
    "matrix = [\n",
    "    [1, 2, 3],\n",
    "    [4, 5, 6],\n",
    "    [7, 8, 9]\n",
    "]\n",
    "transpose = [[row[i] for row in matrix] for i in range(len(matrix))]\n",
    "print(\"7. Transposed Matrix:\", transpose)"
   ]
  },
  {
   "cell_type": "code",
   "execution_count": 60,
   "id": "fdba38d2",
   "metadata": {},
   "outputs": [
    {
     "name": "stdout",
     "output_type": "stream",
     "text": [
      "8. Codes without vowels: ['X12B', '34', 'L56']\n"
     ]
    }
   ],
   "source": [
    "# 6. Remove vowels from product codes\n",
    "product_codes = [\"AX12B\", \"EO34I\", \"UL56O\"]\n",
    "no_vowels = [''.join(ch for ch in code if ch.lower() not in 'aeiou')\n",
    "             for code in product_codes]\n",
    "print(\"8. Codes without vowels:\", no_vowels)"
   ]
  },
  {
   "cell_type": "code",
   "execution_count": null,
   "id": "e3598aa6",
   "metadata": {},
   "outputs": [],
   "source": []
  }
 ],
 "metadata": {
  "kernelspec": {
   "display_name": "Python 3 (ipykernel)",
   "language": "python",
   "name": "python3"
  },
  "language_info": {
   "codemirror_mode": {
    "name": "ipython",
    "version": 3
   },
   "file_extension": ".py",
   "mimetype": "text/x-python",
   "name": "python",
   "nbconvert_exporter": "python",
   "pygments_lexer": "ipython3",
   "version": "3.9.12"
  }
 },
 "nbformat": 4,
 "nbformat_minor": 5
}
