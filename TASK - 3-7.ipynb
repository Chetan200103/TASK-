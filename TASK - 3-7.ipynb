{
 "cells": [
  {
   "cell_type": "markdown",
   "id": "df574de0",
   "metadata": {},
   "source": [
    "### Working With sqlite3"
   ]
  },
  {
   "cell_type": "markdown",
   "id": "39c2a5c0",
   "metadata": {},
   "source": [
    "###### Import Module "
   ]
  },
  {
   "cell_type": "code",
   "execution_count": 1,
   "id": "d9b3f931",
   "metadata": {},
   "outputs": [],
   "source": [
    "import sqlite3"
   ]
  },
  {
   "cell_type": "markdown",
   "id": "87d7d4fb",
   "metadata": {},
   "source": [
    "###### Create Database and Connection"
   ]
  },
  {
   "cell_type": "code",
   "execution_count": 2,
   "id": "999641cb",
   "metadata": {},
   "outputs": [],
   "source": [
    "conn = sqlite3.connect('mydatabase.db')\n",
    "cursor = conn.cursor()"
   ]
  },
  {
   "cell_type": "markdown",
   "id": "0145a1a5",
   "metadata": {},
   "source": [
    "###### Create Table"
   ]
  },
  {
   "cell_type": "code",
   "execution_count": 3,
   "id": "e54640a9",
   "metadata": {},
   "outputs": [],
   "source": [
    "cursor.execute(\"\"\"\n",
    "CREATE TABLE IF NOT EXISTS users(\n",
    "     id INTEGER PRIMARY KEY,\n",
    "     name TEXT NOT NULL,\n",
    "     age INTERGER\n",
    ")\n",
    "\"\"\")\n",
    "conn.commit()"
   ]
  },
  {
   "cell_type": "markdown",
   "id": "fe3644f7",
   "metadata": {},
   "source": [
    "###### Insert Record "
   ]
  },
  {
   "cell_type": "code",
   "execution_count": 4,
   "id": "0dd44264",
   "metadata": {},
   "outputs": [],
   "source": [
    "cursor.execute(\"INSERT INTO users(name,age) VALUES(?,?)\",(\"akshay\",25))\n",
    "cursor.executemany(\"INSERT INTO users(name,age)VALUES(?,?)\",[(\"rahul\",30),(\"sai\",22)])\n",
    "conn.commit()"
   ]
  },
  {
   "cell_type": "markdown",
   "id": "6ec9e711",
   "metadata": {},
   "source": [
    "##### Read Records "
   ]
  },
  {
   "cell_type": "code",
   "execution_count": 5,
   "id": "3af13ad6",
   "metadata": {},
   "outputs": [
    {
     "name": "stdout",
     "output_type": "stream",
     "text": [
      "(1, 'akshay', 25)\n",
      "(2, 'rahul', 30)\n",
      "(3, 'sai', 22)\n"
     ]
    }
   ],
   "source": [
    "cursor.execute(\"SELECT * FROM users\")\n",
    "for row in cursor.fetchall():\n",
    "    print(row)"
   ]
  },
  {
   "cell_type": "markdown",
   "id": "67132e6e",
   "metadata": {},
   "source": [
    "##### Update Record"
   ]
  },
  {
   "cell_type": "code",
   "execution_count": 6,
   "id": "90212642",
   "metadata": {},
   "outputs": [],
   "source": [
    "cursor.execute(\"UPDATE users SET age = 42 WHERE name ='sai'\")\n",
    "conn.commit()"
   ]
  },
  {
   "cell_type": "markdown",
   "id": "cded2d54",
   "metadata": {},
   "source": [
    "##### Delete Record"
   ]
  },
  {
   "cell_type": "code",
   "execution_count": 8,
   "id": "e9d85511",
   "metadata": {},
   "outputs": [],
   "source": [
    "cursor.execute(\"DELETE FROM users WHERE name ='sai'\")\n",
    "conn.commit()"
   ]
  },
  {
   "cell_type": "markdown",
   "id": "5f65bca6",
   "metadata": {},
   "source": [
    "#### Close Connection "
   ]
  },
  {
   "cell_type": "code",
   "execution_count": 9,
   "id": "9ba7fc22",
   "metadata": {},
   "outputs": [],
   "source": [
    "conn.close()"
   ]
  },
  {
   "cell_type": "markdown",
   "id": "a35fbe93",
   "metadata": {},
   "source": [
    "### Students Details using Sqlite"
   ]
  },
  {
   "cell_type": "markdown",
   "id": "cebf5d23",
   "metadata": {},
   "source": [
    "######  Create Connection "
   ]
  },
  {
   "cell_type": "code",
   "execution_count": 10,
   "id": "1a01563d",
   "metadata": {},
   "outputs": [],
   "source": [
    "import sqlite3 \n",
    "\n",
    "conn = sqlite3.connect('student.db')\n",
    "cursor = conn.cursor()"
   ]
  },
  {
   "cell_type": "markdown",
   "id": "6fe5578b",
   "metadata": {},
   "source": [
    "#### Create Table "
   ]
  },
  {
   "cell_type": "code",
   "execution_count": 11,
   "id": "c1a570ab",
   "metadata": {},
   "outputs": [],
   "source": [
    "cursor.execute('''\n",
    "CREATE TABLE IF NOT EXISTS student(\n",
    "   id INTEGER PRIMARY KEY AUTOINCREMENT,\n",
    "   name TEXT NOT NULL,\n",
    "   age INTEGER,\n",
    "   grade TEXT\n",
    ")\n",
    "''')\n",
    "\n",
    "conn.commit()"
   ]
  },
  {
   "cell_type": "markdown",
   "id": "eb69ed19",
   "metadata": {},
   "source": [
    "#### Insert Records"
   ]
  },
  {
   "cell_type": "code",
   "execution_count": 12,
   "id": "391d8417",
   "metadata": {},
   "outputs": [],
   "source": [
    "cursor.execute(\"INSERT INTO student (name,age,grade) VALUES(?,?,?)\",\n",
    "               (\"AMIT\",20,\"A\"))\n",
    "conn.commit()"
   ]
  },
  {
   "cell_type": "markdown",
   "id": "58146d35",
   "metadata": {},
   "source": [
    "#### Insert Multiple Records"
   ]
  },
  {
   "cell_type": "code",
   "execution_count": 13,
   "id": "56caae19",
   "metadata": {},
   "outputs": [],
   "source": [
    "student_data = [\n",
    "    (\"riya\",19,\"B\"),\n",
    "    (\"karan\",20,\"A\"),\n",
    "    (\"Neha\",21,\"C\")\n",
    "]\n",
    "\n",
    "cursor.executemany(\"INSERT INTO student(name,age,grade) VALUES(?,?,?)\",\n",
    "                   student_data)\n",
    "conn.commit()"
   ]
  },
  {
   "cell_type": "markdown",
   "id": "ed5cafdf",
   "metadata": {},
   "source": [
    "##### Display Record "
   ]
  },
  {
   "cell_type": "code",
   "execution_count": 15,
   "id": "ae6ab73f",
   "metadata": {},
   "outputs": [
    {
     "name": "stdout",
     "output_type": "stream",
     "text": [
      "(1, 'AMIT', 20, 'A')\n",
      "(2, 'riya', 19, 'B')\n",
      "(3, 'karan', 20, 'A')\n",
      "(4, 'Neha', 21, 'C')\n"
     ]
    }
   ],
   "source": [
    "cursor.execute(\"SELECT * FROM student\")\n",
    "for row in cursor.fetchall():\n",
    "    print(row)"
   ]
  },
  {
   "cell_type": "markdown",
   "id": "02f3bde9",
   "metadata": {},
   "source": [
    "#### Close Connection"
   ]
  },
  {
   "cell_type": "code",
   "execution_count": 16,
   "id": "ec8f0c0e",
   "metadata": {},
   "outputs": [],
   "source": [
    "conn.close()"
   ]
  },
  {
   "cell_type": "markdown",
   "id": "07e15f88",
   "metadata": {},
   "source": [
    "## Working with Flask"
   ]
  },
  {
   "cell_type": "code",
   "execution_count": null,
   "id": "cb733484",
   "metadata": {},
   "outputs": [],
   "source": [
    "## Flask is a lightweight and flexible web framework written in Python. It’s used to build web applications quickly and with minimal code. \n",
    "# Flask is considered a \"micro\" framework because it doesn't come with built-in tools like form handling or database abstraction—you add only what you need."
   ]
  },
  {
   "cell_type": "markdown",
   "id": "b4c3d81f",
   "metadata": {},
   "source": [
    "### Key Features of Flask:\n",
    "* Simple and minimal: Easy to learn and use\n",
    "\n",
    "* Flexible: Add extensions for ORM, authentication, forms, etc.\n",
    "\n",
    "* Routing system: Maps URLs to Python functions\n",
    "\n",
    "* Built-in development server"
   ]
  },
  {
   "cell_type": "markdown",
   "id": "fdf8eedd",
   "metadata": {},
   "source": [
    "##### What Can You Build with Flask?\n",
    "* Small web apps and dashboards\n",
    "\n",
    "* RESTful APIs\n",
    "\n",
    "* Backend services for mobile apps\n",
    "\n",
    "* Prototypes or MVPs\n",
    "\n",
    "* Admin panels and data viewers"
   ]
  },
  {
   "cell_type": "code",
   "execution_count": null,
   "id": "d69b6e7d",
   "metadata": {},
   "outputs": [],
   "source": []
  }
 ],
 "metadata": {
  "kernelspec": {
   "display_name": "Python 3 (ipykernel)",
   "language": "python",
   "name": "python3"
  },
  "language_info": {
   "codemirror_mode": {
    "name": "ipython",
    "version": 3
   },
   "file_extension": ".py",
   "mimetype": "text/x-python",
   "name": "python",
   "nbconvert_exporter": "python",
   "pygments_lexer": "ipython3",
   "version": "3.9.12"
  }
 },
 "nbformat": 4,
 "nbformat_minor": 5
}
