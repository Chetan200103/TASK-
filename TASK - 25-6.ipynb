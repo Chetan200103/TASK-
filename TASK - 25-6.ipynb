{
 "cells": [
  {
   "cell_type": "markdown",
   "id": "a86254ca",
   "metadata": {},
   "source": [
    "# OOP CONCEPT"
   ]
  },
  {
   "cell_type": "markdown",
   "id": "f4c8b7c2",
   "metadata": {},
   "source": [
    "##  Polymorphism in Python:\n",
    "\n",
    "* Polymorphism \n",
    "* Method overloading (mimic)\n",
    "* Method overriding \n",
    "* Abstraction\n",
    "* Encapsulation "
   ]
  },
  {
   "cell_type": "code",
   "execution_count": 2,
   "id": "9292fb66",
   "metadata": {},
   "outputs": [],
   "source": [
    "# Polymorphism means one name many form one entity behave differently in different situation "
   ]
  },
  {
   "cell_type": "markdown",
   "id": "36f0167c",
   "metadata": {},
   "source": [
    "#### Simple Example of Polymorphism "
   ]
  },
  {
   "cell_type": "code",
   "execution_count": 4,
   "id": "9d4f109f",
   "metadata": {},
   "outputs": [
    {
     "name": "stdout",
     "output_type": "stream",
     "text": [
      "cat says meow\n",
      "dog says woof\n"
     ]
    }
   ],
   "source": [
    "class cat:\n",
    "    def speak(self):\n",
    "        print(\"cat says meow\")\n",
    "        \n",
    "class dog:\n",
    "    def speak(self):\n",
    "        print(\"dog says woof\")\n",
    "\n",
    "for animal in(cat(),dog()):\n",
    "    animal.speak()\n"
   ]
  },
  {
   "cell_type": "code",
   "execution_count": 5,
   "id": "0d478be6",
   "metadata": {},
   "outputs": [
    {
     "name": "stdout",
     "output_type": "stream",
     "text": [
      "employee salary is 5000\n",
      "admin salary is 7000\n"
     ]
    }
   ],
   "source": [
    "class emp:\n",
    "    def salary(self):\n",
    "        print(\"employee salary is 5000\")\n",
    "        \n",
    "class admin:\n",
    "    def salary(self):\n",
    "        print(\"admin salary is 7000\")\n",
    "        \n",
    "for company in (emp(),admin()):\n",
    "    company.salary()"
   ]
  },
  {
   "cell_type": "code",
   "execution_count": 6,
   "id": "860e4b05",
   "metadata": {},
   "outputs": [
    {
     "name": "stdout",
     "output_type": "stream",
     "text": [
      "car drive slow\n",
      "bike drive fast\n"
     ]
    }
   ],
   "source": [
    "class car:\n",
    "    def drive(self):\n",
    "        print(\"car drive slow\")\n",
    "\n",
    "class bike:\n",
    "    def drive(self):\n",
    "        print(\"bike drive fast\")\n",
    "\n",
    "for vehicle in (car(),bike()):\n",
    "    vehicle.drive()"
   ]
  },
  {
   "cell_type": "code",
   "execution_count": 7,
   "id": "1840492d",
   "metadata": {},
   "outputs": [
    {
     "name": "stdout",
     "output_type": "stream",
     "text": [
      "hello polymorphism\n",
      "hola\n",
      "namaste\n"
     ]
    }
   ],
   "source": [
    "class english:\n",
    "    def greet(self):\n",
    "        print(\"hello polymorphism\")\n",
    "        \n",
    "class spanish:\n",
    "    def greet(self):\n",
    "        print(\"hola\")\n",
    "        \n",
    "class marathi:\n",
    "    def greet(self):\n",
    "        print(\"namaste\")\n",
    "        \n",
    "for welcome in (english(),spanish(),marathi()):\n",
    "    welcome.greet()"
   ]
  },
  {
   "cell_type": "code",
   "execution_count": 8,
   "id": "20a57634",
   "metadata": {},
   "outputs": [
    {
     "name": "stdout",
     "output_type": "stream",
     "text": [
      "train ticket is low\n",
      "plane ticket is high\n",
      "cruise ticket is very high\n"
     ]
    }
   ],
   "source": [
    "class train:\n",
    "    def travel(self):\n",
    "        print(\"train ticket is low\")\n",
    "        \n",
    "class plane:\n",
    "    def travel(self):\n",
    "        print(\"plane ticket is high\")\n",
    "        \n",
    "class cruise:\n",
    "    def travel(self):\n",
    "        print(\"cruise ticket is very high\")\n",
    "\n",
    "for abc in (train(),plane(),cruise()):\n",
    "    abc.travel()"
   ]
  },
  {
   "cell_type": "markdown",
   "id": "1f4e8e53",
   "metadata": {},
   "source": [
    "#### Method Overloading\n",
    "###### Python does not support traditional method overloading directly."
   ]
  },
  {
   "cell_type": "code",
   "execution_count": null,
   "id": "a8e9f168",
   "metadata": {},
   "outputs": [],
   "source": [
    "## It refer to a class define same name but different number of arguments or parameter.\n",
    "# a function having with same name but different number of parameter. "
   ]
  },
  {
   "cell_type": "markdown",
   "id": "cde1c61e",
   "metadata": {},
   "source": [
    "####  Simple example of method overloading"
   ]
  },
  {
   "cell_type": "code",
   "execution_count": 12,
   "id": "bf14006b",
   "metadata": {},
   "outputs": [
    {
     "name": "stdout",
     "output_type": "stream",
     "text": [
      "15\n",
      "14\n",
      "10\n",
      "9110\n"
     ]
    }
   ],
   "source": [
    "class calculator:\n",
    "    def add(self, a=0,b=0,c=0):\n",
    "        return a+b+c\n",
    "    \n",
    "calc=calculator()\n",
    "\n",
    "print(calc.add(5,10))\n",
    "print(calc.add(2,4,8))\n",
    "print(calc.add(4,6))\n",
    "print(calc.add(8888,222))"
   ]
  },
  {
   "cell_type": "code",
   "execution_count": 15,
   "id": "5564efda",
   "metadata": {},
   "outputs": [
    {
     "name": "stdout",
     "output_type": "stream",
     "text": [
      "hello,chetan\n",
      "hello\n"
     ]
    }
   ],
   "source": [
    "class greet:\n",
    "    def say_hello(self,name=None):\n",
    "        if name:\n",
    "            print(f\"hello,{name}\")\n",
    "        else :\n",
    "            print(\"hello\")\n",
    "\n",
    "greet().say_hello(\"chetan\")\n",
    "greet().say_hello()"
   ]
  },
  {
   "cell_type": "markdown",
   "id": "7c4f7ebd",
   "metadata": {},
   "source": [
    "##### Student details using method overloading "
   ]
  },
  {
   "cell_type": "code",
   "execution_count": 19,
   "id": "7c45f90b",
   "metadata": {},
   "outputs": [
    {
     "name": "stdout",
     "output_type": "stream",
     "text": [
      "name,chetan\n",
      "chetan is 24 year old\n"
     ]
    }
   ],
   "source": [
    "class student:\n",
    "    def details(self,name,age=None):\n",
    "        if age:\n",
    "            print(f\"{name} is {age} year old\")\n",
    "        else:\n",
    "            print(f\"name,{name}\")\n",
    "student().details(\"chetan\")\n",
    "student().details(\"chetan\",24)"
   ]
  },
  {
   "cell_type": "markdown",
   "id": "ed6aa75e",
   "metadata": {},
   "source": [
    "#### Billing syestem using method overloading "
   ]
  },
  {
   "cell_type": "code",
   "execution_count": 23,
   "id": "8f630d5e",
   "metadata": {},
   "outputs": [
    {
     "name": "stdout",
     "output_type": "stream",
     "text": [
      "100\n",
      "60\n"
     ]
    }
   ],
   "source": [
    "class bill:\n",
    "    def cal(self,price,quantity=1):\n",
    "        return price*quantity\n",
    "\n",
    "print(bill().cal(100))\n",
    "print(bill().cal(20,3))"
   ]
  },
  {
   "cell_type": "markdown",
   "id": "4bd40a96",
   "metadata": {},
   "source": [
    "### Method Overriding "
   ]
  },
  {
   "cell_type": "code",
   "execution_count": null,
   "id": "cfc7ffe5",
   "metadata": {},
   "outputs": [],
   "source": [
    "## Method overriding is when a child class defines a method with the same name as \n",
    "## a method in the parent class, to change or extend its behavior."
   ]
  },
  {
   "cell_type": "markdown",
   "id": "a961d579",
   "metadata": {},
   "source": [
    "####  Example of method overriding "
   ]
  },
  {
   "cell_type": "code",
   "execution_count": 25,
   "id": "cfed6a73",
   "metadata": {},
   "outputs": [
    {
     "name": "stdout",
     "output_type": "stream",
     "text": [
      "dog can bark\n"
     ]
    }
   ],
   "source": [
    "class animal:\n",
    "    def sound(self):\n",
    "        print(\"animal make sound\")\n",
    "        \n",
    "class dog(animal):\n",
    "    def sound(self):\n",
    "        print(\"dog can bark\")\n",
    "        \n",
    "d = dog()\n",
    "d.sound()"
   ]
  },
  {
   "cell_type": "code",
   "execution_count": 26,
   "id": "9705ed74",
   "metadata": {},
   "outputs": [
    {
     "name": "stdout",
     "output_type": "stream",
     "text": [
      "this is child class\n"
     ]
    }
   ],
   "source": [
    "class parent:\n",
    "    def show(self):\n",
    "        print(\"this is parent class\")\n",
    "\n",
    "class child(parent):\n",
    "    def show(self):\n",
    "        print(\"this is child class\")\n",
    "c=child()\n",
    "c.show()"
   ]
  },
  {
   "cell_type": "code",
   "execution_count": 28,
   "id": "32296191",
   "metadata": {},
   "outputs": [
    {
     "name": "stdout",
     "output_type": "stream",
     "text": [
      "sbi rate is 5%\n"
     ]
    }
   ],
   "source": [
    "class bank:\n",
    "    def general_bank(self):\n",
    "        print(\"general bank intrest is 2% \")\n",
    "\n",
    "class sbi:\n",
    "    def general_bank(self):\n",
    "        print(\"sbi rate is 5%\")\n",
    "\n",
    "s = sbi()\n",
    "s.general_bank()"
   ]
  },
  {
   "cell_type": "code",
   "execution_count": 29,
   "id": "1d97c4bc",
   "metadata": {},
   "outputs": [
    {
     "name": "stdout",
     "output_type": "stream",
     "text": [
      "Eye Hospital provides eye care\n"
     ]
    }
   ],
   "source": [
    "class Hospital:\n",
    "    def services(self):\n",
    "        print(\"Hospital provides healthcare\")\n",
    "\n",
    "class EyeHospital(Hospital):\n",
    "    def services(self):\n",
    "        print(\"Eye Hospital provides eye care\")\n",
    "\n",
    "EyeHospital().services()\n"
   ]
  },
  {
   "cell_type": "markdown",
   "id": "e388d6e0",
   "metadata": {},
   "source": [
    "## Abstraction "
   ]
  },
  {
   "cell_type": "code",
   "execution_count": null,
   "id": "da69d064",
   "metadata": {},
   "outputs": [],
   "source": [
    "# Abstraction is one of the core concepts of Object-Oriented Programming (OOP).\n",
    "# It means hiding complex implementation details and showing only the essential features of an object.\n",
    "# abstraction means hiding internal details and showing functionality to user "
   ]
  },
  {
   "cell_type": "markdown",
   "id": "fee508b9",
   "metadata": {},
   "source": [
    "##### Simple example of abstraction "
   ]
  },
  {
   "cell_type": "code",
   "execution_count": 31,
   "id": "d462eded",
   "metadata": {},
   "outputs": [
    {
     "name": "stdout",
     "output_type": "stream",
     "text": [
      "bark\n",
      "meow\n"
     ]
    }
   ],
   "source": [
    "from abc import ABC, abstractmethod\n",
    "\n",
    "class animal(ABC):\n",
    "    \n",
    "    @abstractmethod\n",
    "    def sound(self):\n",
    "        pass\n",
    "    \n",
    "\n",
    "class dog(animal):\n",
    "    def sound(self):\n",
    "        print(\"bark\")\n",
    "        \n",
    "        \n",
    "class cat:\n",
    "    def sound(self):\n",
    "        print(\"meow\")\n",
    "\n",
    "d = dog()\n",
    "d.sound()\n",
    "\n",
    "c= cat()\n",
    "c.sound()"
   ]
  },
  {
   "cell_type": "code",
   "execution_count": 32,
   "id": "4636a6ec",
   "metadata": {},
   "outputs": [
    {
     "name": "stdout",
     "output_type": "stream",
     "text": [
      "Area = π × r²\n",
      "Area = side × side\n"
     ]
    }
   ],
   "source": [
    "from abc import ABC, abstractmethod\n",
    "\n",
    "class Shape(ABC):\n",
    "    @abstractmethod\n",
    "    def area(self):\n",
    "        pass\n",
    "\n",
    "class Circle(Shape):\n",
    "    def area(self):\n",
    "        print(\"Area = π × r²\")\n",
    "\n",
    "class Square(Shape):\n",
    "    def area(self):\n",
    "        print(\"Area = side × side\")\n",
    "\n",
    "Circle().area()\n",
    "Square().area()\n"
   ]
  },
  {
   "cell_type": "markdown",
   "id": "aad1ea0d",
   "metadata": {},
   "source": [
    "#### ENCAPSULATION"
   ]
  },
  {
   "cell_type": "code",
   "execution_count": null,
   "id": "465d8bb7",
   "metadata": {},
   "outputs": [],
   "source": [
    "# Encapsulation is one of the core principles of Object-Oriented Programming (OOP).\n",
    "# It refers to the bundling of data (variables) and methods (functions) into a single unit, "
   ]
  },
  {
   "cell_type": "markdown",
   "id": "d44786bd",
   "metadata": {},
   "source": [
    "##### Simple example of encapsulation "
   ]
  },
  {
   "cell_type": "code",
   "execution_count": 33,
   "id": "cbc63e8e",
   "metadata": {},
   "outputs": [
    {
     "name": "stdout",
     "output_type": "stream",
     "text": [
      "Name: Chetan, Age: 24\n",
      "25\n"
     ]
    }
   ],
   "source": [
    "class Person:\n",
    "    def __init__(self, name, age):\n",
    "        self.__name = name     \n",
    "        self.__age = age     \n",
    "\n",
    "    def display(self):\n",
    "        print(f\"Name: {self.__name}, Age: {self.__age}\")\n",
    "\n",
    "    def set_age(self, age):   \n",
    "        if age > 0:\n",
    "            self.__age = age\n",
    "\n",
    "    def get_age(self):         \n",
    "        return self.__age\n",
    "\n",
    "p = Person(\"Chetan\", 24)\n",
    "p.display()\n",
    "\n",
    "p.set_age(25)\n",
    "print(p.get_age())  \n"
   ]
  },
  {
   "cell_type": "code",
   "execution_count": null,
   "id": "a964001f",
   "metadata": {},
   "outputs": [],
   "source": []
  },
  {
   "cell_type": "code",
   "execution_count": null,
   "id": "71b1a637",
   "metadata": {},
   "outputs": [],
   "source": []
  }
 ],
 "metadata": {
  "kernelspec": {
   "display_name": "Python 3 (ipykernel)",
   "language": "python",
   "name": "python3"
  },
  "language_info": {
   "codemirror_mode": {
    "name": "ipython",
    "version": 3
   },
   "file_extension": ".py",
   "mimetype": "text/x-python",
   "name": "python",
   "nbconvert_exporter": "python",
   "pygments_lexer": "ipython3",
   "version": "3.9.12"
  }
 },
 "nbformat": 4,
 "nbformat_minor": 5
}
