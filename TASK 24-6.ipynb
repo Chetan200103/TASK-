{
 "cells": [
  {
   "cell_type": "markdown",
   "id": "9bb4bb29",
   "metadata": {},
   "source": [
    "## OOP CONCEPT "
   ]
  },
  {
   "cell_type": "markdown",
   "id": "fc269971",
   "metadata": {},
   "source": [
    "### INHERITANCE \n",
    "\n",
    "* Single level inheritance\n",
    "* multiple inheritance \n",
    "* multi- level inheritance \n",
    "* Hierarchical Inheritance\n",
    "* Hybrid Inheritance\n"
   ]
  },
  {
   "cell_type": "code",
   "execution_count": null,
   "id": "a590699c",
   "metadata": {},
   "outputs": [],
   "source": [
    "### When one entity acquire all property and behaviour of its parent class known as inheritance \n",
    "## This promotes code reusability and establishes a relationship between classes."
   ]
  },
  {
   "cell_type": "markdown",
   "id": "a704ddf0",
   "metadata": {},
   "source": [
    "##### simple example of inheritnace "
   ]
  },
  {
   "cell_type": "code",
   "execution_count": 7,
   "id": "57bfab5b",
   "metadata": {},
   "outputs": [
    {
     "name": "stdout",
     "output_type": "stream",
     "text": [
      "engine started\n",
      "car is moving\n"
     ]
    }
   ],
   "source": [
    "# Base class\n",
    "class vehicle:\n",
    "    def start_engine(self):\n",
    "        print(\"engine started\")\n",
    "        \n",
    "# DERIVED CLASS\n",
    "class car(vehicle):\n",
    "    def drive(self):\n",
    "        print(\"car is moving\")\n",
    "        \n",
    "c = car()\n",
    "c.start_engine()\n",
    "c.drive()\n"
   ]
  },
  {
   "cell_type": "code",
   "execution_count": 8,
   "id": "4959b2b5",
   "metadata": {},
   "outputs": [
    {
     "name": "stdout",
     "output_type": "stream",
     "text": [
      "department is hr\n",
      "department is admin\n"
     ]
    }
   ],
   "source": [
    "class dept:\n",
    "    def HR(self):\n",
    "        print(\"department is hr\")\n",
    "        \n",
    "class emp(dept):\n",
    "    def admin(self):\n",
    "        print(\"department is admin\")\n",
    "        \n",
    "e = emp()cl\n",
    "e.HR()\n",
    "e.admin()"
   ]
  },
  {
   "cell_type": "markdown",
   "id": "5bded136",
   "metadata": {},
   "source": [
    "### single inheritance "
   ]
  },
  {
   "cell_type": "code",
   "execution_count": 9,
   "id": "43b3aba6",
   "metadata": {},
   "outputs": [],
   "source": [
    "# ONE BASE CLASS AND ONE DERIVED CLASS\n",
    "# one parent and one child "
   ]
  },
  {
   "cell_type": "code",
   "execution_count": 12,
   "id": "e94a56d5",
   "metadata": {},
   "outputs": [
    {
     "name": "stdout",
     "output_type": "stream",
     "text": [
      "animal speaks\n",
      "dog is barking\n"
     ]
    }
   ],
   "source": [
    "class animal:\n",
    "    def speak(self):\n",
    "        print(\"animal speaks\")\n",
    "        \n",
    "class dog(animal):\n",
    "    def bark(self):\n",
    "        print(\"dog is barking\")\n",
    "        \n",
    "d = dog()\n",
    "d.speak()\n",
    "d.bark()"
   ]
  },
  {
   "cell_type": "code",
   "execution_count": 13,
   "id": "82a36fec",
   "metadata": {},
   "outputs": [
    {
     "name": "stdout",
     "output_type": "stream",
     "text": [
      "office\n",
      "office 2\n"
     ]
    }
   ],
   "source": [
    "class off:\n",
    "    def emp(self):\n",
    "        print(\"office\")\n",
    "class off2(off):\n",
    "    def emp2(self):\n",
    "        print(\"office 2\")\n",
    "    \n",
    "o = off2()\n",
    "o.emp()\n",
    "o.emp2()"
   ]
  },
  {
   "cell_type": "code",
   "execution_count": 17,
   "id": "ad05b889",
   "metadata": {},
   "outputs": [
    {
     "name": "stdout",
     "output_type": "stream",
     "text": [
      "teacher is teaching\n",
      "teaching maths\n"
     ]
    }
   ],
   "source": [
    "class teacher:\n",
    "    def teach(self):\n",
    "        print(\"teacher is teaching\")\n",
    "        \n",
    "class mathteacher(teacher):\n",
    "    def explainmath(self):\n",
    "        print(\"teaching maths\")\n",
    "m = mathteacher()\n",
    "m.teach()\n",
    "m.explainmath()"
   ]
  },
  {
   "cell_type": "markdown",
   "id": "63dd9e5d",
   "metadata": {},
   "source": [
    "#### Multiple inheritance "
   ]
  },
  {
   "cell_type": "code",
   "execution_count": null,
   "id": "4118525f",
   "metadata": {},
   "outputs": [],
   "source": [
    "## Two or more base class only one derived class\n",
    "## it allow child to have multiple parent get access of data from multiple class"
   ]
  },
  {
   "cell_type": "code",
   "execution_count": 20,
   "id": "bc623e68",
   "metadata": {},
   "outputs": [
    {
     "name": "stdout",
     "output_type": "stream",
     "text": [
      "father loves parenting\n",
      "mother loves cooking\n",
      "child is happy\n"
     ]
    }
   ],
   "source": [
    "class father:\n",
    "    def parenting (self):\n",
    "        print(\"father loves parenting\")\n",
    "        \n",
    "class mother(father):\n",
    "    def cooking(self):\n",
    "        print(\"mother loves cooking\")\n",
    "        \n",
    "class child(mother):\n",
    "    def happy(self):\n",
    "        print(\"child is happy\")\n",
    "        \n",
    "c = child()\n",
    "c.parenting()\n",
    "c.cooking()\n",
    "c.happy()"
   ]
  },
  {
   "cell_type": "code",
   "execution_count": null,
   "id": "6e2b5229",
   "metadata": {},
   "outputs": [],
   "source": [
    "### Example of multiple inheritance "
   ]
  },
  {
   "cell_type": "code",
   "execution_count": 23,
   "id": "3d42cefb",
   "metadata": {},
   "outputs": [
    {
     "name": "stdout",
     "output_type": "stream",
     "text": [
      "maruti is best car\n",
      "shine is best bike\n",
      "indigo provide best flight\n",
      "passenger loves traveling\n"
     ]
    }
   ],
   "source": [
    "class car:\n",
    "    def maruti(self):\n",
    "        print(\"maruti is best car\")\n",
    "        \n",
    "class bike(car):\n",
    "    def shine(self):\n",
    "        print(\"shine is best bike\")\n",
    "    \n",
    "class airoplane(bike):\n",
    "    def indigo(self):\n",
    "        print(\"indigo provide best flight\")\n",
    "\n",
    "class passenger(airoplane):\n",
    "    def travelling(self):\n",
    "        print(\"passenger loves traveling\")\n",
    "\n",
    "p = passenger()\n",
    "p.maruti()\n",
    "p.shine()\n",
    "p.indigo()\n",
    "p.travelling()"
   ]
  },
  {
   "cell_type": "code",
   "execution_count": 25,
   "id": "b7dab501",
   "metadata": {},
   "outputs": [
    {
     "name": "stdout",
     "output_type": "stream",
     "text": [
      "sports is good\n",
      "artist loves painting\n",
      "student doing study\n"
     ]
    }
   ],
   "source": [
    "class athelate:\n",
    "    def sport(self):\n",
    "        print(\"sports is good\")\n",
    "        \n",
    "class artist(athelate):\n",
    "    def paint(self):\n",
    "        print(\"artist loves painting\")\n",
    "        \n",
    "class student(artist):\n",
    "    def study(self):\n",
    "        print(\"student doing study\")\n",
    "\n",
    "s= student()\n",
    "s.sport()\n",
    "s.paint()\n",
    "s.study()\n",
    "        "
   ]
  },
  {
   "cell_type": "markdown",
   "id": "8cad55a6",
   "metadata": {},
   "source": [
    "### Multilevel inheritance \n"
   ]
  },
  {
   "cell_type": "code",
   "execution_count": 33,
   "id": "ec5a35a7",
   "metadata": {},
   "outputs": [],
   "source": [
    "# ONE BASE CLASS derived further "
   ]
  },
  {
   "cell_type": "code",
   "execution_count": 30,
   "id": "f7660db3",
   "metadata": {},
   "outputs": [
    {
     "name": "stdout",
     "output_type": "stream",
     "text": [
      "honda is best\n",
      "swift is best\n",
      "bmw is best\n"
     ]
    }
   ],
   "source": [
    "class car:\n",
    "    def honda(self):\n",
    "        print(\"honda is best\")\n",
    "\n",
    "class car2(car):\n",
    "    def swift(self):\n",
    "        print(\"swift is best\")\n",
    "\n",
    "class car3(car2):\n",
    "    def bmw(self):\n",
    "        print(\"bmw is best\")\n",
    "        \n",
    "c = car3()\n",
    "c.honda()\n",
    "c.swift()\n",
    "c.bmw()"
   ]
  },
  {
   "cell_type": "code",
   "execution_count": null,
   "id": "24287349",
   "metadata": {},
   "outputs": [],
   "source": [
    "## real life example of multi level inheritance "
   ]
  },
  {
   "cell_type": "code",
   "execution_count": 32,
   "id": "6182bad1",
   "metadata": {},
   "outputs": [
    {
     "name": "stdout",
     "output_type": "stream",
     "text": [
      "grandfather living in home\n",
      "father having car\n",
      "son have a bike\n"
     ]
    }
   ],
   "source": [
    "class grandfather:\n",
    "    def home(self):\n",
    "        print(\"grandfather living in home\")\n",
    "        \n",
    "class father(grandfather):\n",
    "    def car(self):\n",
    "        print(\"father having car\")\n",
    "        \n",
    "class son(father):\n",
    "    def bike(self):\n",
    "        print(\"son have a bike\")\n",
    "        \n",
    "s=son()\n",
    "s.home()\n",
    "s.car()\n",
    "s.bike()"
   ]
  },
  {
   "cell_type": "markdown",
   "id": "ff39ff15",
   "metadata": {},
   "source": [
    "### Hierarchical Inheritance\n"
   ]
  },
  {
   "cell_type": "code",
   "execution_count": 34,
   "id": "07da954e",
   "metadata": {},
   "outputs": [],
   "source": [
    "# One base class → multiple derived classes.\n",
    "# Each child class inherits directly from the same parent."
   ]
  },
  {
   "cell_type": "code",
   "execution_count": 36,
   "id": "7436569a",
   "metadata": {},
   "outputs": [
    {
     "name": "stdout",
     "output_type": "stream",
     "text": [
      "This is a vehicle.\n",
      "This is a car.\n",
      "This is a vehicle.\n",
      "This is a bike.\n"
     ]
    }
   ],
   "source": [
    "# Base class\n",
    "class Vehicle:\n",
    "    def info(self):\n",
    "        print(\"This is a vehicle.\")\n",
    "\n",
    "# Derived class 1\n",
    "class Car(Vehicle):\n",
    "    def car_info(self):\n",
    "        print(\"This is a car.\")\n",
    "\n",
    "# Derived class 2\n",
    "class Bike(Vehicle):\n",
    "    def bike_info(self):\n",
    "        print(\"This is a bike.\")\n",
    "\n",
    "        # Creating objects\n",
    "c = Car()\n",
    "c.info()       # Inherited from Vehicle\n",
    "c.car_info()   # Specific to Car\n",
    "\n",
    "b = Bike()\n",
    "b.info()       # Inherited from Vehicle\n",
    "b.bike_info()  # Specific to Bike"
   ]
  },
  {
   "cell_type": "code",
   "execution_count": 42,
   "id": "dd92c2d6",
   "metadata": {},
   "outputs": [
    {
     "name": "stdout",
     "output_type": "stream",
     "text": [
      "Device is onn\n",
      "working on laptop\n",
      "Device is onn\n",
      "making call with smartphone\n",
      "Device is onn\n",
      "drawing on laptop\n"
     ]
    }
   ],
   "source": [
    "class device:\n",
    "    def power_on(self):\n",
    "        print(\"Device is onn\")\n",
    "\n",
    "class laptop(device):\n",
    "    def work(self):\n",
    "        print(\"working on laptop\")\n",
    "        \n",
    "class smartphone(device):\n",
    "    def call(self):\n",
    "        print(\"making call with smartphone\")\n",
    "        \n",
    "class tablet(device):\n",
    "    def draw(self):\n",
    "        print(\"drawing on laptop\")\n",
    "\n",
    "l=laptop()\n",
    "l.power_on()\n",
    "l.work()\n",
    "\n",
    "s = smartphone()\n",
    "s.power_on()\n",
    "s.call()\n",
    "\n",
    "t = tablet()\n",
    "t.power_on()\n",
    "t.draw()\n",
    "\n",
    "\n"
   ]
  },
  {
   "cell_type": "markdown",
   "id": "580142b1",
   "metadata": {},
   "source": [
    "###  Hybrid inheritance "
   ]
  },
  {
   "cell_type": "code",
   "execution_count": null,
   "id": "aaa32362",
   "metadata": {},
   "outputs": [],
   "source": [
    "# Hybrid Inheritance is a combination of two or more types of inheritance (like single, multiple, multilevel, or hierarchical) in a single program. \n",
    "#VIt is used when the class structure doesn't follow just one inheritance pattern."
   ]
  },
  {
   "cell_type": "code",
   "execution_count": 43,
   "id": "6e4d6c44",
   "metadata": {},
   "outputs": [
    {
     "name": "stdout",
     "output_type": "stream",
     "text": [
      "This is a person\n",
      "This is a student\n",
      "This is an employee\n",
      "This is a working student\n"
     ]
    }
   ],
   "source": [
    "\n",
    "class Person:\n",
    "    def person_info(self):\n",
    "        print(\"This is a person\")\n",
    "\n",
    "class Student(Person):\n",
    "    def student_info(self):\n",
    "        print(\"This is a student\")\n",
    "\n",
    "class Employee(Person):\n",
    "    def employee_info(self):\n",
    "        print(\"This is an employee\")\n",
    "\n",
    "class WorkingStudent(Student, Employee):\n",
    "    def working_student_info(self):\n",
    "        print(\"This is a working student\")\n",
    "\n",
    "ws = WorkingStudent()\n",
    "ws.person_info()           \n",
    "ws.student_info()         \n",
    "ws.employee_info()         \n",
    "ws.working_student_info() \n"
   ]
  },
  {
   "cell_type": "code",
   "execution_count": null,
   "id": "dd155ea3",
   "metadata": {},
   "outputs": [],
   "source": []
  },
  {
   "cell_type": "code",
   "execution_count": null,
   "id": "458799c3",
   "metadata": {},
   "outputs": [],
   "source": []
  },
  {
   "cell_type": "code",
   "execution_count": null,
   "id": "6a67a1b2",
   "metadata": {},
   "outputs": [],
   "source": []
  }
 ],
 "metadata": {
  "kernelspec": {
   "display_name": "Python 3 (ipykernel)",
   "language": "python",
   "name": "python3"
  },
  "language_info": {
   "codemirror_mode": {
    "name": "ipython",
    "version": 3
   },
   "file_extension": ".py",
   "mimetype": "text/x-python",
   "name": "python",
   "nbconvert_exporter": "python",
   "pygments_lexer": "ipython3",
   "version": "3.9.12"
  }
 },
 "nbformat": 4,
 "nbformat_minor": 5
}
