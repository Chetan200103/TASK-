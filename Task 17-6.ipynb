{
 "cells": [
  {
   "cell_type": "markdown",
   "id": "52f09c2a",
   "metadata": {},
   "source": [
    "### Python Basics Fundamentals "
   ]
  },
  {
   "cell_type": "markdown",
   "id": "13f2c9cd",
   "metadata": {},
   "source": [
    "* Single and multiple line Comments\n",
    "* Variable \n",
    "* Data Types \n",
    "* To convert data type\n",
    "* Strings\n",
    "* Operators \n",
    "* Functions\n",
    "* Conditional Statement  \n",
    "* Loops"
   ]
  },
  {
   "cell_type": "markdown",
   "id": "4e515a89",
   "metadata": {},
   "source": [
    "### Single and Multiple Line Comments "
   ]
  },
  {
   "cell_type": "code",
   "execution_count": 3,
   "id": "3595aacc",
   "metadata": {},
   "outputs": [],
   "source": [
    "## Comments use to make code more readble used # for single line command and \"\" for multi line comment"
   ]
  },
  {
   "cell_type": "code",
   "execution_count": 5,
   "id": "5d83eed7",
   "metadata": {},
   "outputs": [],
   "source": [
    "# this is comment \n",
    "\n",
    "a = 5 # this is comment a has value of 5 this is known as single line comment "
   ]
  },
  {
   "cell_type": "code",
   "execution_count": 6,
   "id": "a7459318",
   "metadata": {},
   "outputs": [
    {
     "name": "stdout",
     "output_type": "stream",
     "text": [
      "hello world\n"
     ]
    }
   ],
   "source": [
    "\"\"\"\n",
    "This is comment use more than one line \n",
    "written in \"\"\n",
    "\"\"\"\n",
    "\n",
    "print(\"hello world\")"
   ]
  },
  {
   "cell_type": "markdown",
   "id": "36c38623",
   "metadata": {},
   "source": [
    "### Variables "
   ]
  },
  {
   "cell_type": "code",
   "execution_count": 7,
   "id": "0d64e001",
   "metadata": {},
   "outputs": [],
   "source": [
    "## variable is name of memory location where value is stored "
   ]
  },
  {
   "cell_type": "code",
   "execution_count": 8,
   "id": "22b9443c",
   "metadata": {},
   "outputs": [
    {
     "name": "stdout",
     "output_type": "stream",
     "text": [
      "3 chetan 5.666666666666667\n"
     ]
    }
   ],
   "source": [
    "a = 3  # number\n",
    "\n",
    "b= 'chetan' # string \n",
    "\n",
    "c= 34/6 # float \n",
    "\n",
    "print(a,b,c)"
   ]
  },
  {
   "cell_type": "markdown",
   "id": "4f227250",
   "metadata": {},
   "source": [
    "#### Multiple variable "
   ]
  },
  {
   "cell_type": "code",
   "execution_count": 12,
   "id": "4ff76b58",
   "metadata": {},
   "outputs": [
    {
     "name": "stdout",
     "output_type": "stream",
     "text": [
      "abc\n",
      "efg\n",
      "WTT\n"
     ]
    }
   ],
   "source": [
    "a,b,c='abc','efg','WTT'\n",
    "\n",
    "print(a)\n",
    "print(b)\n",
    "print(c)"
   ]
  },
  {
   "cell_type": "markdown",
   "id": "a3e7955f",
   "metadata": {},
   "source": [
    "#### Data types in python "
   ]
  },
  {
   "cell_type": "markdown",
   "id": "ac84b1e5",
   "metadata": {},
   "source": [
    "* Numeric\n",
    "* String \n",
    "* Boolean  "
   ]
  },
  {
   "cell_type": "markdown",
   "id": "227ba4bd",
   "metadata": {},
   "source": [
    "#### Numeric "
   ]
  },
  {
   "cell_type": "markdown",
   "id": "55d577d7",
   "metadata": {},
   "source": [
    "* int\n",
    "* float \n",
    "* complex "
   ]
  },
  {
   "cell_type": "code",
   "execution_count": 15,
   "id": "22455d0c",
   "metadata": {},
   "outputs": [],
   "source": [
    "x= 4    #integer \n",
    "y= 5.4  #float\n",
    "z= 3j   # complex j imaginary"
   ]
  },
  {
   "cell_type": "code",
   "execution_count": 16,
   "id": "87bf9708",
   "metadata": {},
   "outputs": [
    {
     "data": {
      "text/plain": [
       "(4, 5.4, 3j)"
      ]
     },
     "execution_count": 16,
     "metadata": {},
     "output_type": "execute_result"
    }
   ],
   "source": [
    "x,y,z"
   ]
  },
  {
   "cell_type": "markdown",
   "id": "1ad519aa",
   "metadata": {},
   "source": [
    "#### Type checking "
   ]
  },
  {
   "cell_type": "code",
   "execution_count": 17,
   "id": "0e27151e",
   "metadata": {},
   "outputs": [
    {
     "name": "stdout",
     "output_type": "stream",
     "text": [
      "<class 'int'>\n",
      "<class 'float'>\n",
      "<class 'complex'>\n"
     ]
    }
   ],
   "source": [
    "print(type(x))\n",
    "print(type(y))\n",
    "print(type(z))"
   ]
  },
  {
   "cell_type": "markdown",
   "id": "9a725f25",
   "metadata": {},
   "source": [
    "### Type Converting "
   ]
  },
  {
   "cell_type": "code",
   "execution_count": 18,
   "id": "a19514ac",
   "metadata": {},
   "outputs": [],
   "source": [
    "## Int to float "
   ]
  },
  {
   "cell_type": "code",
   "execution_count": 20,
   "id": "10371fcf",
   "metadata": {},
   "outputs": [
    {
     "data": {
      "text/plain": [
       "4.0"
      ]
     },
     "execution_count": 20,
     "metadata": {},
     "output_type": "execute_result"
    }
   ],
   "source": [
    "a=float(4)\n",
    "a"
   ]
  },
  {
   "cell_type": "code",
   "execution_count": 21,
   "id": "373838b1",
   "metadata": {},
   "outputs": [
    {
     "data": {
      "text/plain": [
       "3"
      ]
     },
     "execution_count": 21,
     "metadata": {},
     "output_type": "execute_result"
    }
   ],
   "source": [
    "## float to interger \n",
    "\n",
    "b=int(3.3)\n",
    "b"
   ]
  },
  {
   "cell_type": "code",
   "execution_count": 22,
   "id": "a1d78aa4",
   "metadata": {},
   "outputs": [],
   "source": [
    "# string to integer "
   ]
  },
  {
   "cell_type": "code",
   "execution_count": 24,
   "id": "b28f9eeb",
   "metadata": {},
   "outputs": [
    {
     "data": {
      "text/plain": [
       "10"
      ]
     },
     "execution_count": 24,
     "metadata": {},
     "output_type": "execute_result"
    }
   ],
   "source": [
    "a = \"10\"\n",
    "b = int(a)\n",
    "b"
   ]
  },
  {
   "cell_type": "code",
   "execution_count": 26,
   "id": "3e188dae",
   "metadata": {},
   "outputs": [],
   "source": [
    "# int to string "
   ]
  },
  {
   "cell_type": "code",
   "execution_count": 27,
   "id": "5e440ed1",
   "metadata": {},
   "outputs": [
    {
     "name": "stdout",
     "output_type": "stream",
     "text": [
      "1000\n",
      "<class 'str'>\n"
     ]
    }
   ],
   "source": [
    "num = 1000\n",
    "text = str(num)\n",
    "\n",
    "print(text)\n",
    "print(type(text))"
   ]
  },
  {
   "cell_type": "markdown",
   "id": "ae03cc24",
   "metadata": {},
   "source": [
    "### String operations "
   ]
  },
  {
   "cell_type": "code",
   "execution_count": null,
   "id": "a824db0c",
   "metadata": {},
   "outputs": [],
   "source": [
    "# string represent sequence of characters enclosed with single or double quates "
   ]
  },
  {
   "cell_type": "code",
   "execution_count": 28,
   "id": "f20de39d",
   "metadata": {},
   "outputs": [
    {
     "data": {
      "text/plain": [
       "'abc'"
      ]
     },
     "execution_count": 28,
     "metadata": {},
     "output_type": "execute_result"
    }
   ],
   "source": [
    "a=\"abc\"\n",
    "a"
   ]
  },
  {
   "cell_type": "markdown",
   "id": "3f5b194b",
   "metadata": {},
   "source": [
    "##### Concatination "
   ]
  },
  {
   "cell_type": "code",
   "execution_count": 32,
   "id": "657a5af5",
   "metadata": {},
   "outputs": [
    {
     "data": {
      "text/plain": [
       "'abc xyz'"
      ]
     },
     "execution_count": 32,
     "metadata": {},
     "output_type": "execute_result"
    }
   ],
   "source": [
    "a= \"abc\"\n",
    "b= \"xyz\"\n",
    "c=a+\" \"+b\n",
    "c"
   ]
  },
  {
   "cell_type": "markdown",
   "id": "af21c55c",
   "metadata": {},
   "source": [
    "##### Repetation  (repeaat string multiple times)"
   ]
  },
  {
   "cell_type": "code",
   "execution_count": 35,
   "id": "fec53f9a",
   "metadata": {},
   "outputs": [
    {
     "name": "stdout",
     "output_type": "stream",
     "text": [
      "hello hello hello hello hello \n"
     ]
    }
   ],
   "source": [
    "msg = \"hello \"\n",
    "print(msg * 5)"
   ]
  },
  {
   "cell_type": "markdown",
   "id": "ce67a73e",
   "metadata": {},
   "source": [
    "##### Indexing "
   ]
  },
  {
   "cell_type": "code",
   "execution_count": 39,
   "id": "ac12ea3b",
   "metadata": {},
   "outputs": [
    {
     "name": "stdout",
     "output_type": "stream",
     "text": [
      "h\n",
      "T\n"
     ]
    }
   ],
   "source": [
    "a= \"hello WTT\"\n",
    "print(a[0])\n",
    "print(a[-1])"
   ]
  },
  {
   "cell_type": "markdown",
   "id": "93b266c4",
   "metadata": {},
   "source": [
    "#### Slicing (taking subset from data ) "
   ]
  },
  {
   "cell_type": "code",
   "execution_count": 44,
   "id": "9825d63d",
   "metadata": {},
   "outputs": [
    {
     "name": "stdout",
     "output_type": "stream",
     "text": [
      "chetan\n",
      "tanWTT\n",
      "chet\n"
     ]
    }
   ],
   "source": [
    "text = \"chetanWTT\"\n",
    "print(text[0:6]) #Start and end at number \n",
    "print(text[3:]) # start from 3 and take all\n",
    "print(text[:4]) # till 4th all"
   ]
  },
  {
   "cell_type": "markdown",
   "id": "58218ee0",
   "metadata": {},
   "source": [
    "#### Length of string"
   ]
  },
  {
   "cell_type": "code",
   "execution_count": 45,
   "id": "4f855bf7",
   "metadata": {},
   "outputs": [
    {
     "name": "stdout",
     "output_type": "stream",
     "text": [
      "5\n"
     ]
    }
   ],
   "source": [
    "msg = 'hello'\n",
    "print(len(msg))"
   ]
  },
  {
   "cell_type": "code",
   "execution_count": 49,
   "id": "9ce8bc7b",
   "metadata": {},
   "outputs": [
    {
     "name": "stdout",
     "output_type": "stream",
     "text": [
      " PYTHON PROGRAMING BASICS \n",
      " python programing basics \n",
      " python programing basics \n",
      " java programing basics \n"
     ]
    }
   ],
   "source": [
    "msg = \" python programing basics \"\n",
    "\n",
    "print(msg.upper()) # convert into upper case  # data.function\n",
    "print(msg.lower()) #convert into lower case \n",
    "print(msg.capitalize()) # capitalize\n",
    "print(msg.replace(\"python\",\"java\"))  #replace value"
   ]
  },
  {
   "cell_type": "markdown",
   "id": "3432e653",
   "metadata": {},
   "source": [
    "#### Operators "
   ]
  },
  {
   "cell_type": "markdown",
   "id": "d4bb9ae2",
   "metadata": {},
   "source": [
    "#### Arthmatic operators "
   ]
  },
  {
   "cell_type": "code",
   "execution_count": 50,
   "id": "6f040fea",
   "metadata": {},
   "outputs": [
    {
     "name": "stdout",
     "output_type": "stream",
     "text": [
      "30\n",
      "-10\n",
      "200\n",
      "0.5\n",
      "10\n"
     ]
    }
   ],
   "source": [
    "a= 10\n",
    "b=20\n",
    "\n",
    "print(a+b) #addition\n",
    "print(a-b)  # substraction \n",
    "print(a*b)   #multiplication\n",
    "print(a/b)   #DIVISION \n",
    "print(a%b) # remainder "
   ]
  },
  {
   "cell_type": "markdown",
   "id": "eb10410f",
   "metadata": {},
   "source": [
    "#### Comparision operator "
   ]
  },
  {
   "cell_type": "code",
   "execution_count": 53,
   "id": "7110e6fb",
   "metadata": {},
   "outputs": [
    {
     "name": "stdout",
     "output_type": "stream",
     "text": [
      "False\n",
      "True\n",
      "True\n",
      "False\n",
      "False\n",
      "True\n"
     ]
    }
   ],
   "source": [
    "a= 5\n",
    "b=10\n",
    "\n",
    "print(a==b)\n",
    "print(a!=b)\n",
    "print(a<b)\n",
    "print(a>b)\n",
    "print(a>=b)\n",
    "print(a<=b)"
   ]
  },
  {
   "cell_type": "markdown",
   "id": "c5dc88d6",
   "metadata": {},
   "source": [
    "#### Logical Operator  (and & or)\n"
   ]
  },
  {
   "cell_type": "code",
   "execution_count": 54,
   "id": "9ebcd75d",
   "metadata": {},
   "outputs": [
    {
     "name": "stdout",
     "output_type": "stream",
     "text": [
      "True\n",
      "True\n"
     ]
    }
   ],
   "source": [
    "x = 5\n",
    "y = 4\n",
    "\n",
    "print(x>y and y>3)\n",
    "print(x>2 or y<5)"
   ]
  },
  {
   "cell_type": "markdown",
   "id": "9e6c1477",
   "metadata": {},
   "source": [
    "#### Assignment operator "
   ]
  },
  {
   "cell_type": "code",
   "execution_count": 61,
   "id": "5c8350da",
   "metadata": {},
   "outputs": [],
   "source": [
    "a= 5"
   ]
  },
  {
   "cell_type": "code",
   "execution_count": 62,
   "id": "efc437b3",
   "metadata": {},
   "outputs": [
    {
     "data": {
      "text/plain": [
       "9"
      ]
     },
     "execution_count": 62,
     "metadata": {},
     "output_type": "execute_result"
    }
   ],
   "source": [
    "a= 5\n",
    "\n",
    "a+=4\n",
    "a"
   ]
  },
  {
   "cell_type": "code",
   "execution_count": 63,
   "id": "8d1017ea",
   "metadata": {},
   "outputs": [
    {
     "data": {
      "text/plain": [
       "5"
      ]
     },
     "execution_count": 63,
     "metadata": {},
     "output_type": "execute_result"
    }
   ],
   "source": [
    "a-+4"
   ]
  },
  {
   "cell_type": "code",
   "execution_count": 64,
   "id": "8dfd9ed5",
   "metadata": {},
   "outputs": [],
   "source": [
    "a*=3"
   ]
  },
  {
   "cell_type": "markdown",
   "id": "e2e70ce4",
   "metadata": {},
   "source": [
    "#### Functions "
   ]
  },
  {
   "cell_type": "code",
   "execution_count": 67,
   "id": "41ee2473",
   "metadata": {},
   "outputs": [
    {
     "name": "stdout",
     "output_type": "stream",
     "text": [
      "WTT\n"
     ]
    }
   ],
   "source": [
    "def abc():\n",
    "    print(\"WTT\")\n",
    "abc() #calling function"
   ]
  },
  {
   "cell_type": "code",
   "execution_count": 68,
   "id": "166602ef",
   "metadata": {},
   "outputs": [
    {
     "name": "stdout",
     "output_type": "stream",
     "text": [
      "hello chetan\n"
     ]
    }
   ],
   "source": [
    "def greet(name):\n",
    "    print(\"hello\",name)\n",
    "greet(\"chetan\")"
   ]
  },
  {
   "cell_type": "code",
   "execution_count": 69,
   "id": "0c608dab",
   "metadata": {},
   "outputs": [
    {
     "name": "stdout",
     "output_type": "stream",
     "text": [
      "heeloo you are\n"
     ]
    }
   ],
   "source": [
    "def greet(yy):\n",
    "    print(\"heeloo\",yy)\n",
    "greet(\"you are\")"
   ]
  },
  {
   "cell_type": "code",
   "execution_count": 70,
   "id": "da2e1146",
   "metadata": {},
   "outputs": [
    {
     "data": {
      "text/plain": [
       "9"
      ]
     },
     "execution_count": 70,
     "metadata": {},
     "output_type": "execute_result"
    }
   ],
   "source": [
    "def add(x,y):\n",
    "    return x+y\n",
    "r=add(4,5)\n",
    "r"
   ]
  },
  {
   "cell_type": "markdown",
   "id": "f3b40af9",
   "metadata": {},
   "source": [
    "##### default parameters"
   ]
  },
  {
   "cell_type": "code",
   "execution_count": 72,
   "id": "730e15bc",
   "metadata": {},
   "outputs": [
    {
     "name": "stdout",
     "output_type": "stream",
     "text": [
      "hello yy\n",
      "hello chetan\n"
     ]
    }
   ],
   "source": [
    "def greet(name='yy'):\n",
    "    print(\"hello\",name)\n",
    "greet()\n",
    "greet('chetan')"
   ]
  },
  {
   "cell_type": "markdown",
   "id": "0b625436",
   "metadata": {},
   "source": [
    "###### keyword arguments "
   ]
  },
  {
   "cell_type": "code",
   "execution_count": 73,
   "id": "ea404c1a",
   "metadata": {},
   "outputs": [
    {
     "name": "stdout",
     "output_type": "stream",
     "text": [
      "hello chetan you are age is 23\n"
     ]
    }
   ],
   "source": [
    "def student(name,age):\n",
    "    print(\"hello\", name ,\"you are age is\",age)\n",
    "student(\"chetan\",23)"
   ]
  },
  {
   "cell_type": "markdown",
   "id": "8f484d4c",
   "metadata": {},
   "source": [
    "##### Lambda function "
   ]
  },
  {
   "cell_type": "code",
   "execution_count": 74,
   "id": "f7485c6d",
   "metadata": {},
   "outputs": [
    {
     "name": "stdout",
     "output_type": "stream",
     "text": [
      "16\n"
     ]
    }
   ],
   "source": [
    "a=lambda x:x*x\n",
    "print(a(4))"
   ]
  },
  {
   "cell_type": "markdown",
   "id": "1e390446",
   "metadata": {},
   "source": [
    "#### Conditional Statement "
   ]
  },
  {
   "cell_type": "markdown",
   "id": "3b828f5e",
   "metadata": {},
   "source": [
    "* IF statement\n",
    "* If-else \n",
    "* Nested If\n",
    "* elif"
   ]
  },
  {
   "cell_type": "code",
   "execution_count": 76,
   "id": "64a6b5bb",
   "metadata": {},
   "outputs": [
    {
     "data": {
      "text/plain": [
       "10"
      ]
     },
     "execution_count": 76,
     "metadata": {},
     "output_type": "execute_result"
    }
   ],
   "source": [
    "a= 10\n",
    "if(a<5):\n",
    "    print(\"less than 5\")\n",
    "a "
   ]
  },
  {
   "cell_type": "markdown",
   "id": "65afbe57",
   "metadata": {},
   "source": [
    "#### if-else"
   ]
  },
  {
   "cell_type": "code",
   "execution_count": 77,
   "id": "fad332f7",
   "metadata": {},
   "outputs": [
    {
     "name": "stdout",
     "output_type": "stream",
     "text": [
      "leap year\n"
     ]
    }
   ],
   "source": [
    "a=4\n",
    "if(a%400):\n",
    "    print(\"leap year\")\n",
    "else :\n",
    "    print(\"not leap \")"
   ]
  },
  {
   "cell_type": "code",
   "execution_count": 78,
   "id": "56371396",
   "metadata": {},
   "outputs": [
    {
     "name": "stdout",
     "output_type": "stream",
     "text": [
      "enter year2014\n",
      "leap year\n"
     ]
    }
   ],
   "source": [
    "a= int(input(\"enter year\"))\n",
    "if(a%4):\n",
    "    print(\"leap year\")\n",
    "else:\n",
    "    print(\"not leap\")"
   ]
  },
  {
   "cell_type": "markdown",
   "id": "b2c77112",
   "metadata": {},
   "source": [
    "##### nested if "
   ]
  },
  {
   "cell_type": "code",
   "execution_count": 80,
   "id": "eb083ecb",
   "metadata": {},
   "outputs": [
    {
     "name": "stdout",
     "output_type": "stream",
     "text": [
      "valid\n"
     ]
    }
   ],
   "source": [
    "a= 400\n",
    "\n",
    "if(a>100):\n",
    "    if(a<500):\n",
    "        print(\"valid\")\n",
    "else :\n",
    "    print(\"not valid\")"
   ]
  },
  {
   "cell_type": "code",
   "execution_count": 83,
   "id": "f9557056",
   "metadata": {},
   "outputs": [
    {
     "name": "stdout",
     "output_type": "stream",
     "text": [
      "b\n"
     ]
    }
   ],
   "source": [
    "a= 100\n",
    "\n",
    "if (a>50):\n",
    "    print(\"b\")\n",
    "elif(a>70):\n",
    "    print(\"good\")\n",
    "elif (a<102):\n",
    "    print(\"below\")"
   ]
  },
  {
   "cell_type": "markdown",
   "id": "4adf20e5",
   "metadata": {},
   "source": [
    "#### Loops"
   ]
  },
  {
   "cell_type": "code",
   "execution_count": 84,
   "id": "86cffbe2",
   "metadata": {},
   "outputs": [
    {
     "name": "stdout",
     "output_type": "stream",
     "text": [
      "0\n",
      "1\n",
      "2\n",
      "3\n",
      "4\n"
     ]
    }
   ],
   "source": [
    "for i in range(5):\n",
    "    print(i)"
   ]
  },
  {
   "cell_type": "code",
   "execution_count": 89,
   "id": "d13e7c0a",
   "metadata": {},
   "outputs": [],
   "source": [
    "i =10\n",
    "while i<=5 :\n",
    "    print(i)\n",
    "    i+=1"
   ]
  },
  {
   "cell_type": "markdown",
   "id": "0a47956f",
   "metadata": {},
   "source": [
    "##### break statement"
   ]
  },
  {
   "cell_type": "code",
   "execution_count": 90,
   "id": "ab132615",
   "metadata": {},
   "outputs": [
    {
     "name": "stdout",
     "output_type": "stream",
     "text": [
      "0\n",
      "1\n",
      "2\n",
      "3\n",
      "4\n"
     ]
    }
   ],
   "source": [
    "for i in range(10):\n",
    "    if i == 5:\n",
    "        break\n",
    "    print(i)"
   ]
  },
  {
   "cell_type": "markdown",
   "id": "80443975",
   "metadata": {},
   "source": [
    "#### continue statement\n"
   ]
  },
  {
   "cell_type": "code",
   "execution_count": 91,
   "id": "48ef83fc",
   "metadata": {},
   "outputs": [
    {
     "name": "stdout",
     "output_type": "stream",
     "text": [
      "0\n",
      "1\n",
      "3\n",
      "4\n"
     ]
    }
   ],
   "source": [
    "for i in range(5):\n",
    "    if i == 2:\n",
    "        continue\n",
    "    print(i)"
   ]
  },
  {
   "cell_type": "code",
   "execution_count": null,
   "id": "16b406e3",
   "metadata": {},
   "outputs": [],
   "source": []
  }
 ],
 "metadata": {
  "kernelspec": {
   "display_name": "Python 3 (ipykernel)",
   "language": "python",
   "name": "python3"
  },
  "language_info": {
   "codemirror_mode": {
    "name": "ipython",
    "version": 3
   },
   "file_extension": ".py",
   "mimetype": "text/x-python",
   "name": "python",
   "nbconvert_exporter": "python",
   "pygments_lexer": "ipython3",
   "version": "3.9.12"
  }
 },
 "nbformat": 4,
 "nbformat_minor": 5
}
