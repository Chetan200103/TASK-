{
 "cells": [
  {
   "cell_type": "markdown",
   "id": "259c9758",
   "metadata": {},
   "source": [
    "### AGENDA\n",
    "\n",
    "* BUILT IN FUNCTIONS \n",
    "* USER DEFINED FUNCTIONS\n",
    "* LAMBDA FUNCTIONS\n",
    "* FUNCTION WITH DEFAULT ARGUMENTS \n",
    "* LOOPS CONTROLS STATEMENT\n",
    "* IF-ELSE PROGRAMS \n",
    "* REAL WORLD PROGRAMS "
   ]
  },
  {
   "cell_type": "markdown",
   "id": "b0d3e33a",
   "metadata": {},
   "source": [
    "#####   Built-in Functions"
   ]
  },
  {
   "cell_type": "code",
   "execution_count": null,
   "id": "f722e55b",
   "metadata": {},
   "outputs": [],
   "source": [
    "#built in function refer to pre-defined in python "
   ]
  },
  {
   "cell_type": "markdown",
   "id": "0695b351",
   "metadata": {},
   "source": [
    "* print()\n",
    "* len() \n",
    "* type() \n",
    "* input()\n",
    "* sum()\n",
    "* max()\n",
    "* min()\n",
    "* sorted()"
   ]
  },
  {
   "cell_type": "code",
   "execution_count": 1,
   "id": "df8e78ec",
   "metadata": {},
   "outputs": [
    {
     "name": "stdout",
     "output_type": "stream",
     "text": [
      "hello WTT\n"
     ]
    }
   ],
   "source": [
    "print(\"hello WTT\")"
   ]
  },
  {
   "cell_type": "code",
   "execution_count": 2,
   "id": "610aee95",
   "metadata": {},
   "outputs": [
    {
     "name": "stdout",
     "output_type": "stream",
     "text": [
      "10\n"
     ]
    }
   ],
   "source": [
    "i=10\n",
    "print(i)"
   ]
  },
  {
   "cell_type": "code",
   "execution_count": 6,
   "id": "09a1f64d",
   "metadata": {},
   "outputs": [
    {
     "name": "stdout",
     "output_type": "stream",
     "text": [
      "20\n"
     ]
    }
   ],
   "source": [
    "a=\"whitetabletechnology\"\n",
    "print(len(a))"
   ]
  },
  {
   "cell_type": "code",
   "execution_count": 8,
   "id": "e581d70f",
   "metadata": {},
   "outputs": [
    {
     "name": "stdout",
     "output_type": "stream",
     "text": [
      "<class 'str'>\n"
     ]
    }
   ],
   "source": [
    "a=\"wtt\"\n",
    "print(type(a))"
   ]
  },
  {
   "cell_type": "code",
   "execution_count": 9,
   "id": "2223c8b6",
   "metadata": {},
   "outputs": [
    {
     "name": "stdout",
     "output_type": "stream",
     "text": [
      "<class 'int'>\n"
     ]
    }
   ],
   "source": [
    "i=10\n",
    "print(type(i))"
   ]
  },
  {
   "cell_type": "code",
   "execution_count": 10,
   "id": "d680139f",
   "metadata": {},
   "outputs": [
    {
     "name": "stdout",
     "output_type": "stream",
     "text": [
      "<class 'float'>\n"
     ]
    }
   ],
   "source": [
    "j = 130.4\n",
    "print(type(j))"
   ]
  },
  {
   "cell_type": "code",
   "execution_count": 13,
   "id": "93c328b9",
   "metadata": {},
   "outputs": [
    {
     "name": "stdout",
     "output_type": "stream",
     "text": [
      "enter namechetan \n",
      "hello chetan \n"
     ]
    }
   ],
   "source": [
    "name = input(\"enter name\")\n",
    "print(\"hello\",name)"
   ]
  },
  {
   "cell_type": "markdown",
   "id": "d0b3ee60",
   "metadata": {},
   "source": [
    "#### Addition  of two number entered by user"
   ]
  },
  {
   "cell_type": "code",
   "execution_count": null,
   "id": "17a11f25",
   "metadata": {},
   "outputs": [],
   "source": [
    "a=int(input(\"enter first number\"))\n",
    "b=int(input(\"enter second number\"))\n",
    "result=(\"total number is\", a + b)\n",
    "result"
   ]
  },
  {
   "cell_type": "markdown",
   "id": "ead53b85",
   "metadata": {},
   "source": [
    "#### Check number is even or odd"
   ]
  },
  {
   "cell_type": "code",
   "execution_count": 29,
   "id": "ca527d10",
   "metadata": {},
   "outputs": [
    {
     "name": "stdout",
     "output_type": "stream",
     "text": [
      "enter the number 25\n",
      "odd number\n"
     ]
    }
   ],
   "source": [
    "a= int(input(\"enter the number \"))\n",
    "if (a%2==0):\n",
    "    print(\"even number\")\n",
    "else:\n",
    "    print(\"odd number\")"
   ]
  },
  {
   "cell_type": "markdown",
   "id": "34faef86",
   "metadata": {},
   "source": [
    "#### Simple calculator "
   ]
  },
  {
   "cell_type": "code",
   "execution_count": 30,
   "id": "a11f2f37",
   "metadata": {},
   "outputs": [
    {
     "name": "stdout",
     "output_type": "stream",
     "text": [
      "enter first number 4744\n",
      "enter second number4785\n",
      "enter operatot(+,-,*,-):+\n",
      "addition is 9529\n"
     ]
    }
   ],
   "source": [
    "a=int(input(\"enter first number \"))\n",
    "b=int(input(\"enter second number\"))\n",
    "c=input(\"enter operatot(+,-,*,-):\")\n",
    "\n",
    "if c ==  '+':\n",
    "    print(\"addition is\", a + b)\n",
    "elif c == '-':\n",
    "    print(\"substraction is\", a - b)\n",
    "elif c == '*':\n",
    "    print(\"multiplication is \", a * b)\n",
    "elif c == '/':\n",
    "    print(\"division is \", a/b)\n",
    "else :\n",
    "    print(\"invalid\")"
   ]
  },
  {
   "cell_type": "markdown",
   "id": "f1012da7",
   "metadata": {},
   "source": [
    "##### Word is palindrome or not "
   ]
  },
  {
   "cell_type": "code",
   "execution_count": 31,
   "id": "4af84878",
   "metadata": {},
   "outputs": [
    {
     "name": "stdout",
     "output_type": "stream",
     "text": [
      "enter the word  hhhh\n",
      "palindrome\n"
     ]
    }
   ],
   "source": [
    "word =input(\"enter the word  \")\n",
    "if word == word[::-1]:\n",
    "    print(\"palindrome\")\n",
    "else :\n",
    "    print(\"not palindrome\")"
   ]
  },
  {
   "cell_type": "markdown",
   "id": "136521fc",
   "metadata": {},
   "source": [
    "#### Sum , min , max"
   ]
  },
  {
   "cell_type": "code",
   "execution_count": 32,
   "id": "078bef74",
   "metadata": {},
   "outputs": [
    {
     "data": {
      "text/plain": [
       "24"
      ]
     },
     "execution_count": 32,
     "metadata": {},
     "output_type": "execute_result"
    }
   ],
   "source": [
    "num = [3,4,5,5,4,3]\n",
    "total =sum(num)\n",
    "total"
   ]
  },
  {
   "cell_type": "code",
   "execution_count": 33,
   "id": "acf44617",
   "metadata": {},
   "outputs": [
    {
     "data": {
      "text/plain": [
       "3"
      ]
     },
     "execution_count": 33,
     "metadata": {},
     "output_type": "execute_result"
    }
   ],
   "source": [
    "num = [3,4,5,5,4,3]\n",
    "total =min(num)\n",
    "total"
   ]
  },
  {
   "cell_type": "code",
   "execution_count": 34,
   "id": "a5637e61",
   "metadata": {},
   "outputs": [
    {
     "data": {
      "text/plain": [
       "5"
      ]
     },
     "execution_count": 34,
     "metadata": {},
     "output_type": "execute_result"
    }
   ],
   "source": [
    "num = [3,4,5,5,4,3]\n",
    "total =max(num)\n",
    "total"
   ]
  },
  {
   "cell_type": "markdown",
   "id": "bbed36d2",
   "metadata": {},
   "source": [
    "###### Sorting "
   ]
  },
  {
   "cell_type": "code",
   "execution_count": 35,
   "id": "5a5ee3d1",
   "metadata": {},
   "outputs": [
    {
     "data": {
      "text/plain": [
       "[1, 3, 3, 4, 4, 7, 46, 99]"
      ]
     },
     "execution_count": 35,
     "metadata": {},
     "output_type": "execute_result"
    }
   ],
   "source": [
    "a= [1,3,46,4,7,4,3,99]\n",
    "b=sorted(a)\n",
    "b"
   ]
  },
  {
   "cell_type": "code",
   "execution_count": 36,
   "id": "5939b932",
   "metadata": {},
   "outputs": [
    {
     "name": "stdout",
     "output_type": "stream",
     "text": [
      "['Alice', 'Bob', 'David', 'Eve']\n"
     ]
    }
   ],
   "source": [
    "names = [\"Alice\", \"Bob\", \"Eve\", \"David\"]\n",
    "print(sorted(names))"
   ]
  },
  {
   "cell_type": "code",
   "execution_count": 38,
   "id": "03b13f60",
   "metadata": {},
   "outputs": [
    {
     "name": "stdout",
     "output_type": "stream",
     "text": [
      "postive num [10, 15, 78, 4, 9]\n",
      "neg [-12, -5, -6, -6]\n"
     ]
    }
   ],
   "source": [
    "a = [10, -12, 15, -5, 78, -6, 4, -6, 9]\n",
    "\n",
    "pos = [x for x in a if x >=0]\n",
    "neg =[x for x in a if x <0]\n",
    "\n",
    "print(\"postive num\",pos)\n",
    "print(\"neg\",neg)\n"
   ]
  },
  {
   "cell_type": "code",
   "execution_count": 47,
   "id": "d874518b",
   "metadata": {},
   "outputs": [
    {
     "data": {
      "text/plain": [
       "[-12, -6, -6, -5, 4, 9, 10, 15, 78]"
      ]
     },
     "execution_count": 47,
     "metadata": {},
     "output_type": "execute_result"
    }
   ],
   "source": [
    "a = [10, -12, 15, -5, 78, -6, 4, -6, 9]\n",
    "b = sorted(a)\n",
    "b"
   ]
  },
  {
   "cell_type": "markdown",
   "id": "dbe337d3",
   "metadata": {},
   "source": [
    "##### USER DEFINED FUNCTIONS "
   ]
  },
  {
   "cell_type": "markdown",
   "id": "405ca7dc",
   "metadata": {},
   "source": [
    "* FUNCTION WITH NO PARAMETER \n",
    "* FUNCTION WITH PARAMETER "
   ]
  },
  {
   "cell_type": "code",
   "execution_count": 48,
   "id": "740e1bb0",
   "metadata": {},
   "outputs": [
    {
     "name": "stdout",
     "output_type": "stream",
     "text": [
      "hello\n"
     ]
    }
   ],
   "source": [
    "def greet():\n",
    "    print(\"hello\")\n",
    "greet()"
   ]
  },
  {
   "cell_type": "markdown",
   "id": "9f1cb578",
   "metadata": {},
   "source": [
    "###### FUNCTION WITH PARAMETERS"
   ]
  },
  {
   "cell_type": "code",
   "execution_count": 51,
   "id": "f6ab6ed4",
   "metadata": {},
   "outputs": [
    {
     "name": "stdout",
     "output_type": "stream",
     "text": [
      "addition is  11\n"
     ]
    }
   ],
   "source": [
    "def abc(x,y):\n",
    "    return x + y\n",
    "result =abc(5,6)\n",
    "print(\"addition is \",result)"
   ]
  },
  {
   "cell_type": "markdown",
   "id": "e8dbc0fb",
   "metadata": {},
   "source": [
    "##### Lambda function \n"
   ]
  },
  {
   "cell_type": "code",
   "execution_count": 52,
   "id": "9859e87d",
   "metadata": {},
   "outputs": [
    {
     "name": "stdout",
     "output_type": "stream",
     "text": [
      "8\n"
     ]
    }
   ],
   "source": [
    "add = lambda a, b:a+b\n",
    "print(add(3,5))"
   ]
  },
  {
   "cell_type": "code",
   "execution_count": 53,
   "id": "f7c05347",
   "metadata": {},
   "outputs": [
    {
     "name": "stdout",
     "output_type": "stream",
     "text": [
      "7350\n"
     ]
    }
   ],
   "source": [
    "n = lambda a,b : a*b\n",
    "print(n(75,98))"
   ]
  },
  {
   "cell_type": "code",
   "execution_count": null,
   "id": "d6142d93",
   "metadata": {},
   "outputs": [],
   "source": [
    "###v To find all even number using filter function "
   ]
  },
  {
   "cell_type": "code",
   "execution_count": 55,
   "id": "a12ace8a",
   "metadata": {},
   "outputs": [
    {
     "data": {
      "text/plain": [
       "[2, 4, 6, 8, 10, 6, 8]"
      ]
     },
     "execution_count": 55,
     "metadata": {},
     "output_type": "execute_result"
    }
   ],
   "source": [
    "n = [2,4,5,6,7,8,9,10,6,8,9,5]\n",
    "a = list(filter(lambda a: a%2==0,n))\n",
    "a"
   ]
  },
  {
   "cell_type": "markdown",
   "id": "a46573a6",
   "metadata": {},
   "source": [
    "##### Loops for pattern programs \n"
   ]
  },
  {
   "cell_type": "code",
   "execution_count": 57,
   "id": "6160e621",
   "metadata": {},
   "outputs": [
    {
     "name": "stdout",
     "output_type": "stream",
     "text": [
      "*\n",
      "**\n",
      "***\n",
      "****\n",
      "*****\n",
      "******\n",
      "*******\n"
     ]
    }
   ],
   "source": [
    "rows=7\n",
    "for i in range(1,rows+1):\n",
    "    print(\"*\"*i)"
   ]
  },
  {
   "cell_type": "code",
   "execution_count": 60,
   "id": "89585d03",
   "metadata": {},
   "outputs": [
    {
     "name": "stdout",
     "output_type": "stream",
     "text": [
      "*****\n",
      "****\n",
      "***\n",
      "**\n",
      "*\n"
     ]
    }
   ],
   "source": [
    "rows = 5\n",
    "for i in range(rows,0,-1):\n",
    "    print(\"*\"*i)"
   ]
  },
  {
   "cell_type": "code",
   "execution_count": 61,
   "id": "5fd9cfa3",
   "metadata": {},
   "outputs": [
    {
     "name": "stdout",
     "output_type": "stream",
     "text": [
      "    *\n",
      "   ***\n",
      "  *****\n",
      " *******\n",
      "*********\n"
     ]
    }
   ],
   "source": [
    "rows = 5\n",
    "for i in range(1, rows + 1):\n",
    "    print(\" \" * (rows - i) + \"*\" * (2*i - 1))\n"
   ]
  },
  {
   "cell_type": "markdown",
   "id": "05b95148",
   "metadata": {},
   "source": [
    "#### if else grading sysytem"
   ]
  },
  {
   "cell_type": "code",
   "execution_count": 1,
   "id": "da70b12b",
   "metadata": {},
   "outputs": [
    {
     "name": "stdout",
     "output_type": "stream",
     "text": [
      "enter your marks  44\n",
      "below average grade D\n"
     ]
    }
   ],
   "source": [
    "a = int(input(\"enter your marks  \"))\n",
    "if a >= 90:\n",
    "    print(\"very good A \")\n",
    "elif a>= 75:\n",
    "    print(\"good Grade B\")\n",
    "elif a >=50:\n",
    "    print(\"average grade c \")\n",
    "elif a > 35:\n",
    "    print(\"below average grade D\")\n",
    "else:\n",
    "    print(\"fail try agian\")"
   ]
  },
  {
   "cell_type": "markdown",
   "id": "3dc0ea66",
   "metadata": {},
   "source": [
    "#### Online Shopping DIscount Logic "
   ]
  },
  {
   "cell_type": "code",
   "execution_count": 3,
   "id": "fe37ae48",
   "metadata": {},
   "outputs": [
    {
     "name": "stdout",
     "output_type": "stream",
     "text": [
      "enter amount5000\n",
      "you earn 10% discount\n",
      "amount to pay 4500.0\n"
     ]
    }
   ],
   "source": [
    "amt = int(input(\"enter amount\"))\n",
    "if amt >=1000:\n",
    "    print(\"you earn 10% discount\")\n",
    "    dis = amt*0.10\n",
    "else :\n",
    "    print(\"no discount\")\n",
    "    dis = 0\n",
    "print(\"amount to pay\",amt-dis)"
   ]
  },
  {
   "cell_type": "markdown",
   "id": "70cf8f1b",
   "metadata": {},
   "source": [
    "##### ATM withdrawal simulation"
   ]
  },
  {
   "cell_type": "code",
   "execution_count": 4,
   "id": "69aad262",
   "metadata": {},
   "outputs": [
    {
     "name": "stdout",
     "output_type": "stream",
     "text": [
      "enter amount100\n",
      "amount withdrawal 100\n",
      "enter amount1000\n",
      "amount withdrawal 1000\n",
      "enter amount4500\n",
      "amount withdrawal 4500\n",
      "max limit reached \n"
     ]
    }
   ],
   "source": [
    "attempt = 0\n",
    "while attempt < 3:\n",
    "    amt = int(input(\"enter amount\"))\n",
    "    print(\"amount withdrawal\",amt)\n",
    "    attempt+=1\n",
    "else:\n",
    "    print(\"max limit reached \")"
   ]
  },
  {
   "cell_type": "markdown",
   "id": "d1a168ee",
   "metadata": {},
   "source": [
    "#### Login system "
   ]
  },
  {
   "cell_type": "code",
   "execution_count": 1,
   "id": "54f1388c",
   "metadata": {},
   "outputs": [
    {
     "name": "stdout",
     "output_type": "stream",
     "text": [
      "enter the passworddd\n",
      "not granted\n",
      "enter the passwordadmin123\n",
      "access granted\n"
     ]
    }
   ],
   "source": [
    "correct_pass = \"admin123\"\n",
    "for i in range(3):\n",
    "    pwd=input(\"enter the password\")\n",
    "    if pwd==correct_pass:\n",
    "        print(\"access granted\")\n",
    "        break\n",
    "    else :\n",
    "        print(\"not granted\")"
   ]
  },
  {
   "cell_type": "markdown",
   "id": "ec1259ac",
   "metadata": {},
   "source": [
    "### Email Format Checker "
   ]
  },
  {
   "cell_type": "code",
   "execution_count": 3,
   "id": "6c4bcd72",
   "metadata": {},
   "outputs": [
    {
     "name": "stdout",
     "output_type": "stream",
     "text": [
      "enter emailmyemail\n",
      "invalid\n"
     ]
    }
   ],
   "source": [
    "email = input(\"enter email\")\n",
    "if \"@\" in email and '.' in email:\n",
    "    print(\"valid email\")\n",
    "else:\n",
    "    print(\"invalid\")"
   ]
  },
  {
   "cell_type": "code",
   "execution_count": null,
   "id": "51310191",
   "metadata": {},
   "outputs": [],
   "source": []
  }
 ],
 "metadata": {
  "kernelspec": {
   "display_name": "Python 3 (ipykernel)",
   "language": "python",
   "name": "python3"
  },
  "language_info": {
   "codemirror_mode": {
    "name": "ipython",
    "version": 3
   },
   "file_extension": ".py",
   "mimetype": "text/x-python",
   "name": "python",
   "nbconvert_exporter": "python",
   "pygments_lexer": "ipython3",
   "version": "3.9.12"
  }
 },
 "nbformat": 4,
 "nbformat_minor": 5
}
