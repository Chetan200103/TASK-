{
 "cells": [
  {
   "cell_type": "markdown",
   "id": "467a65e0",
   "metadata": {},
   "source": [
    "# Working with Database "
   ]
  },
  {
   "cell_type": "code",
   "execution_count": 1,
   "id": "63a3162d",
   "metadata": {
    "scrolled": true
   },
   "outputs": [
    {
     "name": "stdout",
     "output_type": "stream",
     "text": [
      "Defaulting to user installation because normal site-packages is not writeable\n",
      "Collecting mysql-connector-python\n",
      "  Downloading mysql_connector_python-9.3.0-cp39-cp39-win_amd64.whl (16.4 MB)\n",
      "Installing collected packages: mysql-connector-python\n",
      "Successfully installed mysql-connector-python-9.3.0\n"
     ]
    }
   ],
   "source": [
    "!pip install mysql-connector-python"
   ]
  },
  {
   "cell_type": "markdown",
   "id": "a314ab90",
   "metadata": {},
   "source": [
    "## Establish Connection "
   ]
  },
  {
   "cell_type": "code",
   "execution_count": 1,
   "id": "e3a479e5",
   "metadata": {
    "scrolled": false
   },
   "outputs": [
    {
     "name": "stdout",
     "output_type": "stream",
     "text": [
      "connected to mysql db\n"
     ]
    }
   ],
   "source": [
    "import mysql.connector\n",
    "\n",
    "mydb = mysql.connector.connect(\n",
    "    host = \"localhost\",\n",
    "    user = \"root\",\n",
    "    password = \"Chetan@24\",\n",
    "    database = \"df\"\n",
    "\n",
    ")\n",
    "\n",
    "if mydb.is_connected():\n",
    "    print(\"connected to mysql db\")"
   ]
  },
  {
   "cell_type": "markdown",
   "id": "f1aa9600",
   "metadata": {},
   "source": [
    "### Create a Cursor and Execute SQL "
   ]
  },
  {
   "cell_type": "code",
   "execution_count": 5,
   "id": "b91e1545",
   "metadata": {},
   "outputs": [
    {
     "data": {
      "text/plain": [
       "<mysql.connector.cursor.MySQLCursor at 0x1670af41b50>"
      ]
     },
     "execution_count": 5,
     "metadata": {},
     "output_type": "execute_result"
    }
   ],
   "source": [
    "cursor = mydb.cursor()\n",
    "\n",
    "cursor.execute(\"CREATE TABLE IF NOT EXISTS users (id INT AUTO_INCREMENT PRIMARY KEY, name VARCHAR(100))\")\n",
    "cursor"
   ]
  },
  {
   "cell_type": "markdown",
   "id": "45a526e8",
   "metadata": {},
   "source": [
    "#### Inserting Data & Fetching Data"
   ]
  },
  {
   "cell_type": "code",
   "execution_count": 19,
   "id": "5bc28355",
   "metadata": {},
   "outputs": [
    {
     "name": "stdout",
     "output_type": "stream",
     "text": [
      "4 records inserted.\n",
      "(1, 'abc')\n",
      "(2, 'xyz')\n",
      "(3, 'rrr')\n",
      "(4, 'ddf')\n",
      "(5, 'abc')\n",
      "(6, 'xyz')\n",
      "(7, 'rrr')\n",
      "(8, 'ddf')\n",
      "(9, 'abc')\n",
      "(10, 'xyz')\n",
      "(11, 'rrr')\n",
      "(12, 'ddf')\n"
     ]
    }
   ],
   "source": [
    "cursor = mydb.cursor()\n",
    "\n",
    "sql = \"INSERT INTO users (name) VALUES (%s)\"\n",
    "\n",
    "values = [\n",
    "    ('abc',),\n",
    "    ('xyz',),\n",
    "    ('rrr',),\n",
    "    ('ddf',)\n",
    "]\n",
    "\n",
    "cursor.executemany(sql, values)\n",
    "mydb.commit()\n",
    "print(cursor.rowcount, \"records inserted.\")\n",
    "\n",
    "cursor.execute(\"SELECT * FROM users\")\n",
    "for row in cursor.fetchall():\n",
    "    print(row)\n",
    "\n",
    "\n"
   ]
  },
  {
   "cell_type": "markdown",
   "id": "82f42b82",
   "metadata": {},
   "source": [
    "####  Updated The Name "
   ]
  },
  {
   "cell_type": "code",
   "execution_count": 20,
   "id": "e91a8f8e",
   "metadata": {},
   "outputs": [
    {
     "name": "stdout",
     "output_type": "stream",
     "text": [
      "1 record(s) updated.\n"
     ]
    }
   ],
   "source": [
    "sql = \"UPDATE users SET name = %s WHERE id = %s\"\n",
    "val = (\"UpdatedName\", 1)\n",
    "\n",
    "cursor.execute(sql, val)\n",
    "mydb.commit()\n",
    "print(cursor.rowcount, \"record(s) updated.\")"
   ]
  },
  {
   "cell_type": "markdown",
   "id": "fdce2937",
   "metadata": {},
   "source": [
    "### CRUD OPERATIONS"
   ]
  },
  {
   "cell_type": "markdown",
   "id": "e55a01c7",
   "metadata": {},
   "source": [
    "* CREATE\n",
    "* READ\n",
    "* UPDATE\n",
    "* DELETE"
   ]
  },
  {
   "cell_type": "markdown",
   "id": "42e59fe6",
   "metadata": {},
   "source": [
    "### Create"
   ]
  },
  {
   "cell_type": "code",
   "execution_count": 21,
   "id": "550215d6",
   "metadata": {},
   "outputs": [],
   "source": [
    "cursor.execute(\"\"\"\n",
    "CREATE TABLE IF NOT EXISTS users (\n",
    "    id INT AUTO_INCREMENT PRIMARY KEY,\n",
    "    name VARCHAR(100)\n",
    ")\n",
    "\"\"\")"
   ]
  },
  {
   "cell_type": "code",
   "execution_count": 22,
   "id": "9b52422b",
   "metadata": {},
   "outputs": [
    {
     "name": "stdout",
     "output_type": "stream",
     "text": [
      "3 records inserted.\n"
     ]
    }
   ],
   "source": [
    "sql = \"INSERT INTO users (name) VALUES (%s)\"\n",
    "values = [\n",
    "    ('Alice',),\n",
    "    ('Bob',),\n",
    "    ('Charlie',)\n",
    "]\n",
    "\n",
    "cursor.executemany(sql, values)\n",
    "mydb.commit()\n",
    "print(cursor.rowcount, \"records inserted.\")"
   ]
  },
  {
   "cell_type": "markdown",
   "id": "ef9ddd15",
   "metadata": {},
   "source": [
    "## Read"
   ]
  },
  {
   "cell_type": "code",
   "execution_count": 23,
   "id": "4e0ade17",
   "metadata": {},
   "outputs": [
    {
     "name": "stdout",
     "output_type": "stream",
     "text": [
      "(1, 'UpdatedName')\n",
      "(2, 'xyz')\n",
      "(3, 'rrr')\n",
      "(4, 'ddf')\n",
      "(5, 'abc')\n",
      "(6, 'xyz')\n",
      "(7, 'rrr')\n",
      "(8, 'ddf')\n",
      "(9, 'abc')\n",
      "(10, 'xyz')\n",
      "(11, 'rrr')\n",
      "(12, 'ddf')\n",
      "(13, 'Alice')\n",
      "(14, 'Bob')\n",
      "(15, 'Charlie')\n"
     ]
    }
   ],
   "source": [
    "cursor.execute(\"SELECT * FROM users\")\n",
    "rows = cursor.fetchall()\n",
    "\n",
    "for row in rows:\n",
    "    print(row)"
   ]
  },
  {
   "cell_type": "markdown",
   "id": "01f86a48",
   "metadata": {},
   "source": [
    "## Update"
   ]
  },
  {
   "cell_type": "code",
   "execution_count": 24,
   "id": "a54cbb98",
   "metadata": {},
   "outputs": [
    {
     "name": "stdout",
     "output_type": "stream",
     "text": [
      "0 record(s) updated.\n"
     ]
    }
   ],
   "source": [
    "sql = \"UPDATE users SET name = %s WHERE id = %s\"\n",
    "val = (\"UpdatedName\", 1)  \n",
    "\n",
    "cursor.execute(sql, val)\n",
    "mydb.commit()\n",
    "print(cursor.rowcount, \"record(s) updated.\")"
   ]
  },
  {
   "cell_type": "markdown",
   "id": "74facb81",
   "metadata": {},
   "source": [
    "## Delete"
   ]
  },
  {
   "cell_type": "code",
   "execution_count": 25,
   "id": "c65f0608",
   "metadata": {},
   "outputs": [
    {
     "name": "stdout",
     "output_type": "stream",
     "text": [
      "1 record(s) deleted.\n"
     ]
    }
   ],
   "source": [
    "sql = \"DELETE FROM users WHERE id = %s\"\n",
    "val = (2,)  \n",
    "cursor.execute(sql, val)\n",
    "mydb.commit()\n",
    "print(cursor.rowcount, \"record(s) deleted.\")\n"
   ]
  },
  {
   "cell_type": "code",
   "execution_count": null,
   "id": "9ae1e0ea",
   "metadata": {},
   "outputs": [],
   "source": []
  }
 ],
 "metadata": {
  "kernelspec": {
   "display_name": "Python 3 (ipykernel)",
   "language": "python",
   "name": "python3"
  },
  "language_info": {
   "codemirror_mode": {
    "name": "ipython",
    "version": 3
   },
   "file_extension": ".py",
   "mimetype": "text/x-python",
   "name": "python",
   "nbconvert_exporter": "python",
   "pygments_lexer": "ipython3",
   "version": "3.9.12"
  }
 },
 "nbformat": 4,
 "nbformat_minor": 5
}
