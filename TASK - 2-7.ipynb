{
 "cells": [
  {
   "cell_type": "markdown",
   "id": "fe6bacb5",
   "metadata": {},
   "source": [
    "## Working with CRUD operations "
   ]
  },
  {
   "cell_type": "code",
   "execution_count": 6,
   "id": "9731d2bd",
   "metadata": {},
   "outputs": [
    {
     "name": "stdout",
     "output_type": "stream",
     "text": [
      "connected to mysql\n"
     ]
    }
   ],
   "source": [
    "import mysql.connector\n",
    "\n",
    "df = mysql.connector.connect(\n",
    "    host = \"localhost\",\n",
    "    user = \"root\",\n",
    "    password = \"Chetan@24\",\n",
    "    database = \"df\"\n",
    "\n",
    ")\n",
    "\n",
    "if df.is_connected():\n",
    "    print(\"connected to mysql\")"
   ]
  },
  {
   "cell_type": "code",
   "execution_count": 7,
   "id": "988012cc",
   "metadata": {},
   "outputs": [],
   "source": [
    "cursor = df.cursor()"
   ]
  },
  {
   "cell_type": "markdown",
   "id": "3aadf70c",
   "metadata": {},
   "source": [
    "##### Create Table"
   ]
  },
  {
   "cell_type": "code",
   "execution_count": 8,
   "id": "c6b9e572",
   "metadata": {},
   "outputs": [],
   "source": [
    "cursor.execute(\"\"\"\n",
    "CREATE TABLE IF NOT EXISTS users (\n",
    "id INT AUTO_INCREMENT PRIMARY KEY,\n",
    "NAME VARCHAR(100)\n",
    "\n",
    ")\n",
    "\n",
    "\"\"\")"
   ]
  },
  {
   "cell_type": "markdown",
   "id": "a1e0559f",
   "metadata": {},
   "source": [
    "### Inserting Records"
   ]
  },
  {
   "cell_type": "code",
   "execution_count": 28,
   "id": "4f8bae12",
   "metadata": {},
   "outputs": [
    {
     "name": "stdout",
     "output_type": "stream",
     "text": [
      "3 records inserted\n"
     ]
    }
   ],
   "source": [
    "sql = \"INSERT INTO users (name) VALUES(%s)\"\n",
    "values = [(\"sai\",),(\"amol\",),(\"rahul\",)]\n",
    "cursor.executemany(sql,values)\n",
    "df.commit()\n",
    "print(cursor.rowcount,\"records inserted\")\n"
   ]
  },
  {
   "cell_type": "code",
   "execution_count": 29,
   "id": "2aea0685",
   "metadata": {},
   "outputs": [
    {
     "name": "stdout",
     "output_type": "stream",
     "text": [
      "(13, 'Alice')\n",
      "(14, 'Bob')\n",
      "(15, 'Charlie')\n",
      "(16, 'sai')\n",
      "(17, 'suresh')\n",
      "(18, 'rahul')\n",
      "(19, 'sai')\n",
      "(20, 'amol')\n",
      "(21, 'rahul')\n"
     ]
    }
   ],
   "source": [
    "cursor.execute(\"select * from users\")\n",
    "\n",
    "for row in cursor.fetchall():\n",
    "    print(row)"
   ]
  },
  {
   "cell_type": "markdown",
   "id": "6bb23159",
   "metadata": {},
   "source": [
    "#### Delete Record "
   ]
  },
  {
   "cell_type": "code",
   "execution_count": 30,
   "id": "66641b3b",
   "metadata": {},
   "outputs": [
    {
     "name": "stdout",
     "output_type": "stream",
     "text": [
      "0 record(s)deleted\n"
     ]
    }
   ],
   "source": [
    "sql = \"delete from users where id =%s\"\n",
    "value=(12,)\n",
    "\n",
    "cursor.execute(sql,value)\n",
    "\n",
    "df.commit()\n",
    "\n",
    "print(cursor.rowcount,\"record(s)deleted\")"
   ]
  },
  {
   "cell_type": "code",
   "execution_count": 31,
   "id": "1b698014",
   "metadata": {},
   "outputs": [
    {
     "name": "stdout",
     "output_type": "stream",
     "text": [
      "(13, 'Alice')\n",
      "(14, 'Bob')\n",
      "(15, 'Charlie')\n",
      "(16, 'sai')\n",
      "(17, 'suresh')\n",
      "(18, 'rahul')\n",
      "(19, 'sai')\n",
      "(20, 'amol')\n",
      "(21, 'rahul')\n"
     ]
    }
   ],
   "source": [
    "cursor.execute(\"select * from users\")\n",
    "\n",
    "for row in cursor.fetchall():\n",
    "    print(row)"
   ]
  },
  {
   "cell_type": "markdown",
   "id": "c497ad84",
   "metadata": {},
   "source": [
    "#### Close Connection"
   ]
  },
  {
   "cell_type": "code",
   "execution_count": 32,
   "id": "2ab1b0d8",
   "metadata": {},
   "outputs": [],
   "source": [
    "cursor.close()\n",
    "df.close()"
   ]
  },
  {
   "cell_type": "markdown",
   "id": "ac1623dd",
   "metadata": {},
   "source": [
    "## CURD operation on Employee Details "
   ]
  },
  {
   "cell_type": "code",
   "execution_count": 33,
   "id": "b1a74c04",
   "metadata": {},
   "outputs": [],
   "source": [
    "import mysql.connector"
   ]
  },
  {
   "cell_type": "markdown",
   "id": "fc326975",
   "metadata": {},
   "source": [
    "### Connect to database "
   ]
  },
  {
   "cell_type": "code",
   "execution_count": 35,
   "id": "06d474d5",
   "metadata": {},
   "outputs": [],
   "source": [
    "mydb = mysql.connector.connect(\n",
    "    host = \"localhost\",\n",
    "    user = \"root\",\n",
    "    password =\"Chetan@24\",\n",
    "    database =\"emp\"\n",
    "\n",
    ")\n",
    "\n",
    "cursor=mydb.cursor()"
   ]
  },
  {
   "cell_type": "markdown",
   "id": "1d0e601b",
   "metadata": {},
   "source": [
    "### Create Employee Table "
   ]
  },
  {
   "cell_type": "code",
   "execution_count": null,
   "id": "dfe325d3",
   "metadata": {},
   "outputs": [],
   "source": []
  },
  {
   "cell_type": "code",
   "execution_count": 38,
   "id": "bb1128c7",
   "metadata": {},
   "outputs": [],
   "source": [
    "cursor.execute(\"\"\"\n",
    "CREATE TABLE IF NOT EXISTS employee (\n",
    "emp_code INT PRIMARY KEY,\n",
    "name varchar(20),\n",
    "age int,\n",
    "salary float,\n",
    "designation varchar(30)\n",
    "\n",
    ")\n",
    "\n",
    "\"\"\")"
   ]
  },
  {
   "cell_type": "markdown",
   "id": "3ea84d36",
   "metadata": {},
   "source": [
    "### Insert Record"
   ]
  },
  {
   "cell_type": "code",
   "execution_count": 42,
   "id": "3b62fe96",
   "metadata": {},
   "outputs": [
    {
     "name": "stdout",
     "output_type": "stream",
     "text": [
      "5 employee records inserted\n"
     ]
    }
   ],
   "source": [
    "insert_sql = \"INSERT INTO employee(emp_code,name,age,salary,designation)VALUES(%s,%s,%s,%s,%s)\"\n",
    "\n",
    "insert_values =[\n",
    "    (1,\"amol\",30,75500,\"manager\"),\n",
    "     (2,\"rahul\",31,75000,\"HR\"),\n",
    "     (3,\"ganesh\",25,55500,\"Developer\"),\n",
    "     (4,\"chetan\",24,70000,\"Analyst\"),\n",
    "     (5,\"amit\",32,65500,\"Accountant\")\n",
    "]\n",
    "\n",
    "cursor.executemany(insert_sql,insert_values)\n",
    "mydb.commit()\n",
    "print(cursor.rowcount,\"employee records inserted\")"
   ]
  },
  {
   "cell_type": "markdown",
   "id": "e2bedcdd",
   "metadata": {},
   "source": [
    "### Read Records"
   ]
  },
  {
   "cell_type": "code",
   "execution_count": null,
   "id": "e3824206",
   "metadata": {},
   "outputs": [],
   "source": [
    "# Step 4: Read records\n",
    "print(\"\\nEmployee Records:\")\n",
    "cursor.execute(\"SELECT * FROM employee\")\n",
    "for row in cursor.fetchall():\n",
    "    print(row)"
   ]
  },
  {
   "cell_type": "code",
   "execution_count": 43,
   "id": "7aebb088",
   "metadata": {},
   "outputs": [
    {
     "name": "stdout",
     "output_type": "stream",
     "text": [
      "\n",
      "Employee Records\n",
      "(1, 'amol', 30, 75500.0, 'manager')\n",
      "(2, 'rahul', 31, 75000.0, 'HR')\n",
      "(3, 'ganesh', 25, 55500.0, 'Developer')\n",
      "(4, 'chetan', 24, 70000.0, 'Analyst')\n",
      "(5, 'amit', 32, 65500.0, 'Accountant')\n"
     ]
    }
   ],
   "source": [
    "print(\"\\nEmployee Records\")\n",
    "cursor.execute(\"select * from employee\")\n",
    "for row in cursor.fetchall():\n",
    "    print(row)"
   ]
  },
  {
   "cell_type": "markdown",
   "id": "f0f3bb3b",
   "metadata": {},
   "source": [
    "### Update Record (salary of amit updated)\n"
   ]
  },
  {
   "cell_type": "code",
   "execution_count": 44,
   "id": "e7fa2886",
   "metadata": {},
   "outputs": [
    {
     "name": "stdout",
     "output_type": "stream",
     "text": [
      "\n",
      " 1 record updated\n"
     ]
    }
   ],
   "source": [
    "update_sql = \"UPDATE employee SET salary = %s WHERE emp_code = %s\"\n",
    "cursor.execute(update_sql,(70000,5))\n",
    "mydb.commit()\n",
    "print(\"\\n\",cursor.rowcount,\"record updated\")"
   ]
  },
  {
   "cell_type": "code",
   "execution_count": 45,
   "id": "fde32fbf",
   "metadata": {},
   "outputs": [
    {
     "name": "stdout",
     "output_type": "stream",
     "text": [
      "\n",
      "Employee Records\n",
      "(1, 'amol', 30, 75500.0, 'manager')\n",
      "(2, 'rahul', 31, 75000.0, 'HR')\n",
      "(3, 'ganesh', 25, 55500.0, 'Developer')\n",
      "(4, 'chetan', 24, 70000.0, 'Analyst')\n",
      "(5, 'amit', 32, 70000.0, 'Accountant')\n"
     ]
    }
   ],
   "source": [
    "print(\"\\nEmployee Records\")\n",
    "cursor.execute(\"select * from employee\")\n",
    "for row in cursor.fetchall():\n",
    "    print(row)"
   ]
  },
  {
   "cell_type": "markdown",
   "id": "15c87e16",
   "metadata": {},
   "source": [
    " ### Delete Record "
   ]
  },
  {
   "cell_type": "code",
   "execution_count": 46,
   "id": "10e133e2",
   "metadata": {},
   "outputs": [
    {
     "name": "stdout",
     "output_type": "stream",
     "text": [
      "1 record deleted\n"
     ]
    }
   ],
   "source": [
    "delete_sql = \"DELETE FROM employee WHERE emp_code=%s\"\n",
    "cursor.execute(delete_sql,(3,))\n",
    "mydb.commit()\n",
    "print(cursor.rowcount,\"record deleted\")"
   ]
  },
  {
   "cell_type": "code",
   "execution_count": 47,
   "id": "c4c936d0",
   "metadata": {},
   "outputs": [
    {
     "name": "stdout",
     "output_type": "stream",
     "text": [
      "\n",
      "Employee Records\n",
      "(1, 'amol', 30, 75500.0, 'manager')\n",
      "(2, 'rahul', 31, 75000.0, 'HR')\n",
      "(4, 'chetan', 24, 70000.0, 'Analyst')\n",
      "(5, 'amit', 32, 70000.0, 'Accountant')\n"
     ]
    }
   ],
   "source": [
    "print(\"\\nEmployee Records\")\n",
    "cursor.execute(\"select * from employee\")\n",
    "for row in cursor.fetchall():\n",
    "    print(row)"
   ]
  },
  {
   "cell_type": "markdown",
   "id": "c28634f3",
   "metadata": {},
   "source": [
    "### Close Connection "
   ]
  },
  {
   "cell_type": "code",
   "execution_count": 48,
   "id": "afc316ac",
   "metadata": {},
   "outputs": [],
   "source": [
    "cursor.close()\n",
    "mydb.close()"
   ]
  },
  {
   "cell_type": "code",
   "execution_count": null,
   "id": "513ec57f",
   "metadata": {},
   "outputs": [],
   "source": []
  }
 ],
 "metadata": {
  "kernelspec": {
   "display_name": "Python 3 (ipykernel)",
   "language": "python",
   "name": "python3"
  },
  "language_info": {
   "codemirror_mode": {
    "name": "ipython",
    "version": 3
   },
   "file_extension": ".py",
   "mimetype": "text/x-python",
   "name": "python",
   "nbconvert_exporter": "python",
   "pygments_lexer": "ipython3",
   "version": "3.9.12"
  }
 },
 "nbformat": 4,
 "nbformat_minor": 5
}
