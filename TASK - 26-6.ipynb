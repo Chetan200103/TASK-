{
 "cells": [
  {
   "cell_type": "markdown",
   "id": "71f63fbe",
   "metadata": {},
   "source": [
    "### Common Magic Methods:"
   ]
  },
  {
   "cell_type": "markdown",
   "id": "65cc8815",
   "metadata": {},
   "source": [
    " ##### Method\tPurpose\tExample Use\n",
    " *    __init__\n",
    " *   __str__\n",
    " *   __repr__\n",
    " *   __len__\n",
    " *   __add__\n",
    " *   __lt__\n",
    " *   __getitem__\n",
    " *   __setitem__\n",
    " *    __del__"
   ]
  },
  {
   "cell_type": "markdown",
   "id": "934ccd45",
   "metadata": {},
   "source": [
    "###### init"
   ]
  },
  {
   "cell_type": "code",
   "execution_count": 1,
   "id": "b96f7ad4",
   "metadata": {},
   "outputs": [],
   "source": [
    "# The __init__ method is a constructor in Python. It is automatically called when a new object of a class is created.\n",
    "#It's used to initialize instance variables."
   ]
  },
  {
   "cell_type": "code",
   "execution_count": 4,
   "id": "e7246d07",
   "metadata": {},
   "outputs": [
    {
     "name": "stdout",
     "output_type": "stream",
     "text": [
      "Name: Chetan, Age: 25\n"
     ]
    }
   ],
   "source": [
    "class Person:\n",
    "    def __init__(self, name, age):  # constructor\n",
    "        self.name = name\n",
    "        self.age = age\n",
    "\n",
    "    def display(self):\n",
    "        print(f\"Name: {self.name}, Age: {self.age}\")\n",
    "\n",
    "p = Person(\"Chetan\", 25)\n",
    "p.display()"
   ]
  },
  {
   "cell_type": "code",
   "execution_count": null,
   "id": "845b665d",
   "metadata": {},
   "outputs": [],
   "source": [
    "## Rectangle area "
   ]
  },
  {
   "cell_type": "code",
   "execution_count": 8,
   "id": "53f2c2ce",
   "metadata": {},
   "outputs": [
    {
     "name": "stdout",
     "output_type": "stream",
     "text": [
      "Area: 50\n"
     ]
    }
   ],
   "source": [
    "class Rectangle:\n",
    "    def __init__(self, length, width):\n",
    "        self.length = length\n",
    "        self.width = width\n",
    "\n",
    "    def area(self):\n",
    "        print(\"Area:\", self.length * self.width)\n",
    "\n",
    "r = Rectangle(10, 5)\n",
    "r.area()"
   ]
  },
  {
   "cell_type": "markdown",
   "id": "9ccead99",
   "metadata": {},
   "source": [
    "##### str"
   ]
  },
  {
   "cell_type": "code",
   "execution_count": null,
   "id": "6f536476",
   "metadata": {},
   "outputs": [],
   "source": [
    "## str _\n",
    "#  method in Python is a special method used to define a human-readable string representation of an object. I"
   ]
  },
  {
   "cell_type": "code",
   "execution_count": 9,
   "id": "2e107aff",
   "metadata": {},
   "outputs": [
    {
     "name": "stdout",
     "output_type": "stream",
     "text": [
      "Chetan is 25 years old.\n"
     ]
    }
   ],
   "source": [
    "class Person:\n",
    "    def __init__(self, name, age):\n",
    "        self.name = name\n",
    "        self.age = age\n",
    "\n",
    "    def __str__(self):\n",
    "        return f\"{self.name} is {self.age} years old.\"\n",
    "\n",
    "p = Person(\"Chetan\", 25)\n",
    "print(p)  # Output: Chetan is 25 years old.\n"
   ]
  },
  {
   "cell_type": "code",
   "execution_count": 10,
   "id": "282d1b24",
   "metadata": {},
   "outputs": [
    {
     "name": "stdout",
     "output_type": "stream",
     "text": [
      "'1984' by George Orwell\n"
     ]
    }
   ],
   "source": [
    "class Book:\n",
    "    def __init__(self, title, author):\n",
    "        self.title = title\n",
    "        self.author = author\n",
    "\n",
    "    def __str__(self):\n",
    "        return f\"'{self.title}' by {self.author}\"\n",
    "\n",
    "b = Book(\"1984\", \"George Orwell\")\n",
    "print(b)"
   ]
  },
  {
   "cell_type": "markdown",
   "id": "962a4be9",
   "metadata": {},
   "source": [
    "#### repr"
   ]
  },
  {
   "cell_type": "code",
   "execution_count": null,
   "id": "d389887a",
   "metadata": {},
   "outputs": [],
   "source": [
    "# is a special method in Python used to define the official string representation of an object.\n",
    "# It is mainly used for debugging, and ideally returns a string that can be used to recreate the object using eval()."
   ]
  },
  {
   "cell_type": "code",
   "execution_count": 11,
   "id": "81b6ab80",
   "metadata": {},
   "outputs": [
    {
     "name": "stdout",
     "output_type": "stream",
     "text": [
      "Student('Chetan', 25)\n"
     ]
    }
   ],
   "source": [
    "class Student:\n",
    "    def __init__(self, name, age):\n",
    "        self.name = name\n",
    "        self.age = age\n",
    "\n",
    "    def __repr__(self):\n",
    "        return f\"Student('{self.name}', {self.age})\"\n",
    "\n",
    "s = Student(\"Chetan\", 25)\n",
    "print(repr(s))"
   ]
  },
  {
   "cell_type": "code",
   "execution_count": 12,
   "id": "6a6d44df",
   "metadata": {},
   "outputs": [
    {
     "name": "stdout",
     "output_type": "stream",
     "text": [
      "Product('Laptop', 60000)\n"
     ]
    }
   ],
   "source": [
    "class Product:\n",
    "    def __init__(self, name, price):\n",
    "        self.name = name\n",
    "        self.price = price\n",
    "\n",
    "    def __repr__(self):\n",
    "        return f\"Product('{self.name}', {self.price})\"\n",
    "\n",
    "p = Product(\"Laptop\", 60000)\n",
    "print(repr(p)) "
   ]
  },
  {
   "cell_type": "markdown",
   "id": "6030788b",
   "metadata": {},
   "source": [
    "#### len"
   ]
  },
  {
   "cell_type": "code",
   "execution_count": null,
   "id": "870a99ab",
   "metadata": {},
   "outputs": [],
   "source": [
    "# __len__ is a special method (magic method) in Python that is used to define the behavior of the built-in len() function for custom objects."
   ]
  },
  {
   "cell_type": "code",
   "execution_count": 13,
   "id": "a91a9fd2",
   "metadata": {},
   "outputs": [
    {
     "name": "stdout",
     "output_type": "stream",
     "text": [
      "3\n"
     ]
    }
   ],
   "source": [
    "class BookShelf:\n",
    "    def __init__(self, books):\n",
    "        self.books = books\n",
    "\n",
    "    def __len__(self):\n",
    "        return len(self.books)\n",
    "\n",
    "shelf = BookShelf([\"Book1\", \"Book2\", \"Book3\"])\n",
    "print(len(shelf))"
   ]
  },
  {
   "cell_type": "code",
   "execution_count": 16,
   "id": "143a05f8",
   "metadata": {},
   "outputs": [
    {
     "name": "stdout",
     "output_type": "stream",
     "text": [
      "3\n"
     ]
    }
   ],
   "source": [
    "class Team:\n",
    "    def __init__(self, members):\n",
    "        self.members = members\n",
    "\n",
    "    def __len__(self):\n",
    "        return len(self.members)\n",
    "\n",
    "t = Team([\"Alice\", \"Bob\", \"Charlie\"])\n",
    "print(len(t)) "
   ]
  },
  {
   "cell_type": "markdown",
   "id": "9ce1b1ba",
   "metadata": {},
   "source": [
    "##### add"
   ]
  },
  {
   "cell_type": "code",
   "execution_count": 17,
   "id": "b47b0455",
   "metadata": {},
   "outputs": [],
   "source": [
    "#It allows you to customize addition logic between objects of a class.\n",
    "\n"
   ]
  },
  {
   "cell_type": "code",
   "execution_count": 18,
   "id": "6618cc2d",
   "metadata": {},
   "outputs": [
    {
     "name": "stdout",
     "output_type": "stream",
     "text": [
      "30\n"
     ]
    }
   ],
   "source": [
    "class Number:\n",
    "    def __init__(self, value):\n",
    "        self.value = value\n",
    "\n",
    "    def __add__(self, other):\n",
    "        return Number(self.value + other.value)\n",
    "\n",
    "    def __repr__(self):\n",
    "        return f\"{self.value}\"\n",
    "\n",
    "a = Number(10)\n",
    "b = Number(20)\n",
    "print(a + b)"
   ]
  },
  {
   "cell_type": "code",
   "execution_count": 19,
   "id": "45b40261",
   "metadata": {},
   "outputs": [
    {
     "name": "stdout",
     "output_type": "stream",
     "text": [
      "Vector(4, 6)\n"
     ]
    }
   ],
   "source": [
    "class Vector:\n",
    "    def __init__(self, x, y):\n",
    "        self.x = x\n",
    "        self.y = y\n",
    "\n",
    "    def __add__(self, other):\n",
    "        return Vector(self.x + other.x, self.y + other.y)\n",
    "\n",
    "    def __repr__(self):\n",
    "        return f\"Vector({self.x}, {self.y})\"\n",
    "\n",
    "v1 = Vector(1, 2)\n",
    "v2 = Vector(3, 4)\n",
    "print(v1 + v2)"
   ]
  },
  {
   "cell_type": "markdown",
   "id": "6c4a192f",
   "metadata": {},
   "source": [
    "### It"
   ]
  },
  {
   "cell_type": "code",
   "execution_count": 22,
   "id": "99ec7337",
   "metadata": {},
   "outputs": [],
   "source": [
    "# __lt__ stands for \"less than\" and is a special method used to define the behavior of the < operator for custom objects.\n",
    "# It allows you to compare objects based on custom logic (like age, price, marks, etc.)."
   ]
  },
  {
   "cell_type": "code",
   "execution_count": 23,
   "id": "713801d6",
   "metadata": {},
   "outputs": [
    {
     "name": "stdout",
     "output_type": "stream",
     "text": [
      "False\n",
      "True\n"
     ]
    }
   ],
   "source": [
    "class Student:\n",
    "    def __init__(self, name, age):\n",
    "        self.name = name\n",
    "        self.age = age\n",
    "\n",
    "    def __lt__(self, other):\n",
    "        return self.age < other.age\n",
    "\n",
    "s1 = Student(\"Chetan\", 25)\n",
    "s2 = Student(\"Priya\", 22)\n",
    "\n",
    "print(s1 < s2) \n",
    "print(s2 < s1)  \n"
   ]
  },
  {
   "cell_type": "code",
   "execution_count": 24,
   "id": "745ca44e",
   "metadata": {},
   "outputs": [
    {
     "name": "stdout",
     "output_type": "stream",
     "text": [
      "False\n",
      "True\n"
     ]
    }
   ],
   "source": [
    "class Product:\n",
    "    def __init__(self, name, price):\n",
    "        self.name = name\n",
    "        self.price = price\n",
    "\n",
    "    def __lt__(self, other):\n",
    "        return self.price < other.price\n",
    "\n",
    "p1 = Product(\"Laptop\", 60000)\n",
    "p2 = Product(\"Phone\", 30000)\n",
    "\n",
    "print(p1 < p2)  \n",
    "print(p2 < p1) "
   ]
  },
  {
   "cell_type": "markdown",
   "id": "0fa23d61",
   "metadata": {},
   "source": [
    "#### getitem"
   ]
  },
  {
   "cell_type": "code",
   "execution_count": 25,
   "id": "1de6755e",
   "metadata": {},
   "outputs": [],
   "source": [
    "# __getitem__ is a special method that allows a custom object to use indexing (obj[index]) like a list or dictionary.\n",
    "# It is called when you use square brackets [] on an object."
   ]
  },
  {
   "cell_type": "code",
   "execution_count": 26,
   "id": "bb02a664",
   "metadata": {},
   "outputs": [
    {
     "name": "stdout",
     "output_type": "stream",
     "text": [
      "10\n",
      "30\n"
     ]
    }
   ],
   "source": [
    "class MyList:\n",
    "    def __init__(self, data):\n",
    "        self.data = data\n",
    "\n",
    "    def __getitem__(self, index):\n",
    "        return self.data[index]\n",
    "\n",
    "mlist = MyList([10, 20, 30, 40])\n",
    "print(mlist[0])  \n",
    "print(mlist[2])"
   ]
  },
  {
   "cell_type": "code",
   "execution_count": 27,
   "id": "06402e05",
   "metadata": {},
   "outputs": [
    {
     "name": "stdout",
     "output_type": "stream",
     "text": [
      "90\n",
      "No marks\n"
     ]
    }
   ],
   "source": [
    "class Student:\n",
    "    def __init__(self, marks):\n",
    "        self.marks = marks  # dictionary\n",
    "\n",
    "    def __getitem__(self, subject):\n",
    "        return self.marks.get(subject, \"No marks\")\n",
    "\n",
    "s = Student({\"Math\": 90, \"Science\": 85})\n",
    "print(s[\"Math\"])    \n",
    "print(s[\"English\"])  \n"
   ]
  },
  {
   "cell_type": "markdown",
   "id": "6e44c957",
   "metadata": {},
   "source": [
    "#### setitem"
   ]
  },
  {
   "cell_type": "code",
   "execution_count": null,
   "id": "f51ec91f",
   "metadata": {},
   "outputs": [],
   "source": [
    "# __setitem__ is a special method that allows a custom object to set a value using indexing syntax, like obj[key] = value.\n",
    "# It’s used when you want your object to behave like a list or dictionary for assignment operations."
   ]
  },
  {
   "cell_type": "code",
   "execution_count": 29,
   "id": "52404706",
   "metadata": {},
   "outputs": [
    {
     "name": "stdout",
     "output_type": "stream",
     "text": [
      "20\n"
     ]
    }
   ],
   "source": [
    "class MyList:\n",
    "    def __init__(self, data):\n",
    "        self.data = data\n",
    "\n",
    "    def __setitem__(self, index, value):\n",
    "        self.data[index] = value\n",
    "\n",
    "    def __getitem__(self, index):\n",
    "        return self.data[index]\n",
    "\n",
    "ml = MyList([1, 2, 3])\n",
    "ml[1] = 20\n",
    "print(ml[1])  \n"
   ]
  },
  {
   "cell_type": "code",
   "execution_count": 30,
   "id": "00e16677",
   "metadata": {},
   "outputs": [
    {
     "name": "stdout",
     "output_type": "stream",
     "text": [
      "Yello\n"
     ]
    }
   ],
   "source": [
    "class MyString:\n",
    "    def __init__(self, text):\n",
    "        self.text = list(text)\n",
    "\n",
    "    def __setitem__(self, index, value):\n",
    "        self.text[index] = value\n",
    "\n",
    "    def __getitem__(self, index):\n",
    "        return self.text[index]\n",
    "\n",
    "    def __repr__(self):\n",
    "        return ''.join(self.text)\n",
    "\n",
    "s = MyString(\"Hello\")\n",
    "s[0] = \"Y\"\n",
    "print(s)  \n"
   ]
  },
  {
   "cell_type": "markdown",
   "id": "0d58e95b",
   "metadata": {},
   "source": [
    "##### setitem"
   ]
  },
  {
   "cell_type": "code",
   "execution_count": 31,
   "id": "8abcb604",
   "metadata": {},
   "outputs": [],
   "source": [
    "#__setitem__ is a special method that allows a custom object to set a value using indexing syntax, like obj[key] = value.\n",
    "# It’s used when you want your object to behave like a list or dictionary for assignment operations.\n",
    "\n"
   ]
  },
  {
   "cell_type": "code",
   "execution_count": 32,
   "id": "1836079d",
   "metadata": {},
   "outputs": [
    {
     "name": "stdout",
     "output_type": "stream",
     "text": [
      "20\n"
     ]
    }
   ],
   "source": [
    "class MyList:\n",
    "    def __init__(self, data):\n",
    "        self.data = data\n",
    "\n",
    "    def __setitem__(self, index, value):\n",
    "        self.data[index] = value\n",
    "\n",
    "    def __getitem__(self, index):\n",
    "        return self.data[index]\n",
    "\n",
    "ml = MyList([1, 2, 3])\n",
    "ml[1] = 20\n",
    "print(ml[1])  \n"
   ]
  },
  {
   "cell_type": "code",
   "execution_count": 33,
   "id": "a2e46860",
   "metadata": {},
   "outputs": [
    {
     "name": "stdout",
     "output_type": "stream",
     "text": [
      "95\n",
      "88\n"
     ]
    }
   ],
   "source": [
    "class Student:\n",
    "    def __init__(self):\n",
    "        self.marks = {}\n",
    "\n",
    "    def __setitem__(self, subject, score):\n",
    "        self.marks[subject] = score\n",
    "\n",
    "    def __getitem__(self, subject):\n",
    "        return self.marks[subject]\n",
    "\n",
    "s = Student()\n",
    "s[\"Math\"] = 95\n",
    "s[\"Science\"] = 88\n",
    "print(s[\"Math\"])     \n",
    "print(s[\"Science\"]) \n"
   ]
  },
  {
   "cell_type": "code",
   "execution_count": null,
   "id": "ee176400",
   "metadata": {},
   "outputs": [],
   "source": []
  }
 ],
 "metadata": {
  "kernelspec": {
   "display_name": "Python 3 (ipykernel)",
   "language": "python",
   "name": "python3"
  },
  "language_info": {
   "codemirror_mode": {
    "name": "ipython",
    "version": 3
   },
   "file_extension": ".py",
   "mimetype": "text/x-python",
   "name": "python",
   "nbconvert_exporter": "python",
   "pygments_lexer": "ipython3",
   "version": "3.9.12"
  }
 },
 "nbformat": 4,
 "nbformat_minor": 5
}
