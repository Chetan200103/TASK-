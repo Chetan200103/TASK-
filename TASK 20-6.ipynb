{
 "cells": [
  {
   "cell_type": "markdown",
   "id": "7d1be1db",
   "metadata": {},
   "source": [
    "## PYTHON ADVANCE "
   ]
  },
  {
   "cell_type": "markdown",
   "id": "644ef839",
   "metadata": {},
   "source": [
    "* DECORATORS \n",
    "* GENERATORS\n",
    "* ITERATORS\n",
    "* LAMBDA \n",
    "* MAP REDUCE \n",
    "* FILTER\n",
    "* ERROR HANDLING "
   ]
  },
  {
   "cell_type": "code",
   "execution_count": null,
   "id": "fea12f97",
   "metadata": {},
   "outputs": [],
   "source": [
    "# a decorator is a function that takes another function (or method) as input and adds functionality to it without\n",
    "# modifying its structure. Decorators are often used in situations where you want to reuse code"
   ]
  },
  {
   "cell_type": "markdown",
   "id": "b5ff1253",
   "metadata": {},
   "source": [
    "#####  Decorators"
   ]
  },
  {
   "cell_type": "code",
   "execution_count": 8,
   "id": "4e0b59bb",
   "metadata": {},
   "outputs": [
    {
     "name": "stdout",
     "output_type": "stream",
     "text": [
      "before original function\n",
      "hello\n",
      "after use\n"
     ]
    }
   ],
   "source": [
    "def abc(original_function):\n",
    "    def xyz():\n",
    "        print(\"before original function\")\n",
    "        original_function()\n",
    "        print(\"after use\")\n",
    "    return xyz  # Return the wrapper function, not itself\n",
    "\n",
    "@abc  # Apply the decorator to say_hello\n",
    "def say_hello():\n",
    "    print(\"hello\")\n",
    "\n",
    "say_hello()"
   ]
  },
  {
   "cell_type": "code",
   "execution_count": 15,
   "id": "c85f7473",
   "metadata": {},
   "outputs": [
    {
     "name": "stdout",
     "output_type": "stream",
     "text": [
      "checking inputs\n",
      "0.5\n",
      "checking inputs\n",
      "cannot divide by zero\n"
     ]
    }
   ],
   "source": [
    "def divide(func):\n",
    "    def abc(a,b):\n",
    "        print(\"checking inputs\")\n",
    "        if b==0:\n",
    "            print(\"cannot divide by zero\")\n",
    "            return \n",
    "        return func(a,b)\n",
    "    return abc\n",
    "@divide\n",
    "def cal(a,b):\n",
    "    print(a/b)\n",
    "cal(3,6)\n",
    "cal(4,0)\n",
    "    "
   ]
  },
  {
   "cell_type": "markdown",
   "id": "99b833dd",
   "metadata": {},
   "source": [
    "#### Authentication check using Decorators "
   ]
  },
  {
   "cell_type": "code",
   "execution_count": 30,
   "id": "cca0eb33",
   "metadata": {},
   "outputs": [
    {
     "name": "stdout",
     "output_type": "stream",
     "text": [
      "welcome\n"
     ]
    }
   ],
   "source": [
    "def authentication(user):\n",
    "    def decorator(func):\n",
    "        def wrapper():\n",
    "            if user == \"admin\":\n",
    "                func()\n",
    "            else:\n",
    "                print(\"access denied\")\n",
    "        return wrapper\n",
    "    return decorator  # <-- This was missing\n",
    "\n",
    "@authentication(\"admin\")\n",
    "def access_dashboard():\n",
    "    print(\"welcome\")\n",
    "\n",
    "access_dashboard()\n",
    "                    "
   ]
  },
  {
   "cell_type": "markdown",
   "id": "72ecafa6",
   "metadata": {},
   "source": [
    "#### GENERATORS"
   ]
  },
  {
   "cell_type": "code",
   "execution_count": 20,
   "id": "9eb5882b",
   "metadata": {},
   "outputs": [],
   "source": [
    "# A generator is a special type of function in Python that returns an iterator\n",
    "# and allows you to iterate through a sequence of values one at a time, \n",
    "# using the **yield** keyword instead of return."
   ]
  },
  {
   "cell_type": "code",
   "execution_count": 21,
   "id": "244973dc",
   "metadata": {},
   "outputs": [
    {
     "name": "stdout",
     "output_type": "stream",
     "text": [
      "1\n",
      "2\n"
     ]
    }
   ],
   "source": [
    "def my_generator():\n",
    "    yield 1\n",
    "    yield 2\n",
    "    yield 3\n",
    "\n",
    "gen = my_generator()\n",
    "print(next(gen))  # Output: 1\n",
    "print(next(gen))  # Output: 2"
   ]
  },
  {
   "cell_type": "markdown",
   "id": "9c90f7e2",
   "metadata": {},
   "source": [
    "#### ITERATORS"
   ]
  },
  {
   "cell_type": "code",
   "execution_count": 24,
   "id": "cee9f69a",
   "metadata": {},
   "outputs": [],
   "source": [
    "# An iterator is an object in Python that allows you to traverse through \n",
    "# all the elements of a collection, one element at a time, using the built-in next() function.\n",
    "# It must implement two methods:"
   ]
  },
  {
   "cell_type": "code",
   "execution_count": 23,
   "id": "efc475e2",
   "metadata": {},
   "outputs": [
    {
     "name": "stdout",
     "output_type": "stream",
     "text": [
      "1\n"
     ]
    }
   ],
   "source": [
    "class Numbers:\n",
    "    def __init__(self):\n",
    "        self.n = 1\n",
    "\n",
    "    def __iter__(self):\n",
    "        return self\n",
    "\n",
    "    def __next__(self):\n",
    "        if self.n <= 2:\n",
    "            val = self.n\n",
    "            self.n += 1\n",
    "            return val\n",
    "        else:\n",
    "            raise StopIteration\n",
    "\n",
    "it = Numbers()\n",
    "print(next(it)) "
   ]
  },
  {
   "cell_type": "markdown",
   "id": "091743b7",
   "metadata": {},
   "source": [
    "#### Lambda "
   ]
  },
  {
   "cell_type": "markdown",
   "id": "25b63d73",
   "metadata": {},
   "source": [
    "#### Filtering data"
   ]
  },
  {
   "cell_type": "code",
   "execution_count": 31,
   "id": "7da7895b",
   "metadata": {},
   "outputs": [
    {
     "name": "stdout",
     "output_type": "stream",
     "text": [
      "[2, 4, 6]\n"
     ]
    }
   ],
   "source": [
    "nums = [1, 2, 3, 4, 5, 6]\n",
    "even = list(filter(lambda x: x % 2 == 0, nums))\n",
    "print(even)\n"
   ]
  },
  {
   "cell_type": "markdown",
   "id": "04dc62de",
   "metadata": {},
   "source": [
    "#### Map Reduce Function "
   ]
  },
  {
   "cell_type": "code",
   "execution_count": 32,
   "id": "5bee1f59",
   "metadata": {},
   "outputs": [],
   "source": [
    "# map() applies a function to each item in an iterable (like list or tuple) and returns a new iterable with the results.\n",
    "\n"
   ]
  },
  {
   "cell_type": "code",
   "execution_count": 33,
   "id": "af19ba69",
   "metadata": {},
   "outputs": [
    {
     "name": "stdout",
     "output_type": "stream",
     "text": [
      "[1, 4, 9, 16]\n"
     ]
    }
   ],
   "source": [
    "nums = [1, 2, 3, 4]\n",
    "squares = list(map(lambda x: x**2, nums))\n",
    "print(squares)  # Output: [1, 4, 9, 16]"
   ]
  },
  {
   "cell_type": "markdown",
   "id": "8d7d5faf",
   "metadata": {},
   "source": [
    "#### Reduce Function "
   ]
  },
  {
   "cell_type": "code",
   "execution_count": 34,
   "id": "0b582e37",
   "metadata": {},
   "outputs": [
    {
     "name": "stdout",
     "output_type": "stream",
     "text": [
      "24\n"
     ]
    }
   ],
   "source": [
    "from functools import reduce\n",
    "\n",
    "nums = [1, 2, 3, 4]\n",
    "product = reduce(lambda x, y: x * y, nums)\n",
    "print(product)  # Output: 24"
   ]
  },
  {
   "cell_type": "markdown",
   "id": "139343f1",
   "metadata": {},
   "source": [
    "### Filter"
   ]
  },
  {
   "cell_type": "code",
   "execution_count": 35,
   "id": "38d8844c",
   "metadata": {},
   "outputs": [
    {
     "name": "stdout",
     "output_type": "stream",
     "text": [
      "[2, 4, 6]\n"
     ]
    }
   ],
   "source": [
    "## Filter Even Numbers from a List\n",
    "\n",
    "numbers = [1, 2, 3, 4, 5, 6]\n",
    "evens = list(filter(lambda x: x % 2 == 0, numbers))\n",
    "print(evens)"
   ]
  },
  {
   "cell_type": "code",
   "execution_count": 36,
   "id": "b0a86011",
   "metadata": {},
   "outputs": [
    {
     "name": "stdout",
     "output_type": "stream",
     "text": [
      "['john@example.com', 'jane@company.com']\n"
     ]
    }
   ],
   "source": [
    " # Filter Valid Email Addresses\n",
    "\n",
    "emails = [\"john@example.com\", \"test@\", \"jane@company.com\", \"invalid.com\"]\n",
    "valid = list(filter(lambda x: \"@\" in x and \".\" in x, emails))\n",
    "print(valid)"
   ]
  },
  {
   "cell_type": "code",
   "execution_count": 37,
   "id": "ed05112e",
   "metadata": {},
   "outputs": [
    {
     "name": "stdout",
     "output_type": "stream",
     "text": [
      "[('Alice', 85), ('Chetan', 75)]\n"
     ]
    }
   ],
   "source": [
    "# Filter Students Who Passed\n",
    "\n",
    "students = [(\"Alice\", 85), (\"Bob\", 42), (\"Chetan\", 75), (\"Dev\", 33)]\n",
    "passed = list(filter(lambda student: student[1] >= 50, students))\n",
    "print(passed)"
   ]
  },
  {
   "cell_type": "markdown",
   "id": "ae5f76d4",
   "metadata": {},
   "source": [
    "### Error Handling "
   ]
  },
  {
   "cell_type": "code",
   "execution_count": null,
   "id": "37a68cd1",
   "metadata": {},
   "outputs": [],
   "source": [
    "### ### Error handling in Python is done using the try, except, else, and finally blocks. \n",
    "# It helps prevent programs from crashing due to runtime errors and lets you handle errors gracefully."
   ]
  },
  {
   "cell_type": "code",
   "execution_count": 38,
   "id": "fa12326b",
   "metadata": {},
   "outputs": [
    {
     "name": "stdout",
     "output_type": "stream",
     "text": [
      "Cannot divide by zero\n"
     ]
    }
   ],
   "source": [
    "try:\n",
    "    x = 10 / 0\n",
    "except ZeroDivisionError:\n",
    "    print(\"Cannot divide by zero\")"
   ]
  },
  {
   "cell_type": "code",
   "execution_count": 39,
   "id": "0521c83c",
   "metadata": {},
   "outputs": [
    {
     "name": "stdout",
     "output_type": "stream",
     "text": [
      "Enter a number: \n",
      "Invalid input!\n",
      "Execution complete.\n"
     ]
    }
   ],
   "source": [
    "try:\n",
    "    num = int(input(\"Enter a number: \"))\n",
    "except ValueError:\n",
    "    print(\"Invalid input!\")\n",
    "else:\n",
    "    print(\"Valid number:\", num)\n",
    "finally:\n",
    "    print(\"Execution complete.\")"
   ]
  },
  {
   "cell_type": "code",
   "execution_count": 40,
   "id": "7a8421a9",
   "metadata": {},
   "outputs": [
    {
     "name": "stdout",
     "output_type": "stream",
     "text": [
      "You must be 18 or older\n"
     ]
    }
   ],
   "source": [
    " # Raising Custom Errors\n",
    "\n",
    "def check_age(age):\n",
    "    if age < 18:\n",
    "        raise ValueError(\"You must be 18 or older\")\n",
    "    return True\n",
    "\n",
    "try:\n",
    "    check_age(16)\n",
    "except ValueError as e:\n",
    "    print(e)"
   ]
  },
  {
   "cell_type": "code",
   "execution_count": null,
   "id": "415575b1",
   "metadata": {},
   "outputs": [],
   "source": []
  }
 ],
 "metadata": {
  "kernelspec": {
   "display_name": "Python 3 (ipykernel)",
   "language": "python",
   "name": "python3"
  },
  "language_info": {
   "codemirror_mode": {
    "name": "ipython",
    "version": 3
   },
   "file_extension": ".py",
   "mimetype": "text/x-python",
   "name": "python",
   "nbconvert_exporter": "python",
   "pygments_lexer": "ipython3",
   "version": "3.9.12"
  }
 },
 "nbformat": 4,
 "nbformat_minor": 5
}
