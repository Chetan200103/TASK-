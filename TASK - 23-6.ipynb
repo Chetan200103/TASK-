{
 "cells": [
  {
   "cell_type": "markdown",
   "id": "7712460c",
   "metadata": {},
   "source": [
    "## OOP CONCEPTS  1"
   ]
  },
  {
   "cell_type": "markdown",
   "id": "9f131eae",
   "metadata": {},
   "source": [
    "* CLASS\n",
    "* OBJECT \n",
    "* CONSTRUCTION\n",
    "* TYPES OF CONSTRUCTION \n",
    "* INHERITANCE\n",
    "* ABSTRACTION\n",
    "* POLYMORPHISM \n",
    "* ENCAPSULATION"
   ]
  },
  {
   "cell_type": "markdown",
   "id": "e95ea3da",
   "metadata": {},
   "source": [
    "### CLASS"
   ]
  },
  {
   "cell_type": "code",
   "execution_count": 1,
   "id": "8225b402",
   "metadata": {},
   "outputs": [],
   "source": [
    "# In object-oriented programming, a class is a blueprint for creating objects (instances). \n",
    "# It defines the structure and behavior "
   ]
  },
  {
   "cell_type": "code",
   "execution_count": 2,
   "id": "2cf2a65e",
   "metadata": {},
   "outputs": [
    {
     "name": "stdout",
     "output_type": "stream",
     "text": [
      "Car: Toyota Corolla\n"
     ]
    }
   ],
   "source": [
    "class Car:\n",
    "    def __init__(self, brand, model):\n",
    "        self.brand = brand\n",
    "        self.model = model\n",
    "\n",
    "    def display_info(self):\n",
    "        print(f\"Car: {self.brand} {self.model}\")\n",
    "\n",
    "# Creating an object of the class\n",
    "my_car = Car(\"Toyota\", \"Corolla\")\n",
    "my_car.display_info() "
   ]
  },
  {
   "cell_type": "code",
   "execution_count": 3,
   "id": "31e68739",
   "metadata": {},
   "outputs": [
    {
     "name": "stdout",
     "output_type": "stream",
     "text": [
      "Name: Chetan, Roll No: 101\n"
     ]
    }
   ],
   "source": [
    "class Student:\n",
    "    def __init__(self, name, roll_no):\n",
    "        self.name = name\n",
    "        self.roll_no = roll_no\n",
    "\n",
    "    def display(self):\n",
    "        print(f\"Name: {self.name}, Roll No: {self.roll_no}\")\n",
    "\n",
    "# Creating an object\n",
    "s1 = Student(\"Chetan\", 101)\n",
    "s1.display()"
   ]
  },
  {
   "cell_type": "code",
   "execution_count": 4,
   "id": "c8170acb",
   "metadata": {},
   "outputs": [
    {
     "name": "stdout",
     "output_type": "stream",
     "text": [
      "Name: Chetan, Roll No: 101\n"
     ]
    }
   ],
   "source": [
    "class Student:\n",
    "    def __init__(self, name, roll_no):\n",
    "        self.name = name\n",
    "        self.roll_no = roll_no\n",
    "\n",
    "    def display(self):\n",
    "        print(f\"Name: {self.name}, Roll No: {self.roll_no}\")\n",
    "\n",
    "# Creating an object\n",
    "s1 = Student(\"Chetan\", 101)\n",
    "s1.display()"
   ]
  },
  {
   "cell_type": "markdown",
   "id": "4d463ee7",
   "metadata": {},
   "source": [
    "## Object "
   ]
  },
  {
   "cell_type": "code",
   "execution_count": null,
   "id": "296817ce",
   "metadata": {},
   "outputs": [],
   "source": [
    "#### An object is an instance of a class. When a class is defined,\n",
    "#no memory is allocated until an object is created using that class.\n",
    "\n"
   ]
  },
  {
   "cell_type": "code",
   "execution_count": null,
   "id": "de8afd05",
   "metadata": {},
   "outputs": [],
   "source": [
    "  # object_name = ClassName(arguments)"
   ]
  },
  {
   "cell_type": "code",
   "execution_count": 5,
   "id": "262aae14",
   "metadata": {},
   "outputs": [
    {
     "name": "stdout",
     "output_type": "stream",
     "text": [
      "Hello, my name is Chetan\n"
     ]
    }
   ],
   "source": [
    "class Student:\n",
    "    def __init__(self, name):\n",
    "        self.name = name\n",
    "\n",
    "    def greet(self):\n",
    "        print(f\"Hello, my name is {self.name}\")\n",
    "\n",
    "# Creating an object\n",
    "s1 = Student(\"Chetan\")  # s1 is an object\n",
    "s1.greet()"
   ]
  },
  {
   "cell_type": "code",
   "execution_count": 6,
   "id": "797ace41",
   "metadata": {},
   "outputs": [],
   "source": [
    "class Car:\n",
    "    def __init__(self, brand, model):\n",
    "        self.brand = brand\n",
    "        self.model = model\n",
    "\n",
    "    def show(self):\n",
    "        print(f\"Car: {self.brand} {self.model}\")"
   ]
  },
  {
   "cell_type": "code",
   "execution_count": 8,
   "id": "30515d74",
   "metadata": {},
   "outputs": [
    {
     "name": "stdout",
     "output_type": "stream",
     "text": [
      "Car: Honda City\n"
     ]
    }
   ],
   "source": [
    "my_car = Car(\"Honda\", \"City\")  # my_car is an object\n",
    "my_car.show()"
   ]
  },
  {
   "cell_type": "code",
   "execution_count": 9,
   "id": "9f062361",
   "metadata": {},
   "outputs": [
    {
     "name": "stdout",
     "output_type": "stream",
     "text": [
      "Tommy says Woof!\n",
      "Bruno says Woof!\n"
     ]
    }
   ],
   "source": [
    "class Dog:\n",
    "    def __init__(self, name):\n",
    "        self.name = name\n",
    "\n",
    "    def bark(self):\n",
    "        print(f\"{self.name} says Woof!\")\n",
    "\n",
    "dog1 = Dog(\"Tommy\")\n",
    "dog2 = Dog(\"Bruno\")\n",
    "\n",
    "dog1.bark()\n",
    "dog2.bark()"
   ]
  },
  {
   "cell_type": "code",
   "execution_count": null,
   "id": "dea8a993",
   "metadata": {},
   "outputs": [],
   "source": [
    "## CONSTRUCTOR "
   ]
  },
  {
   "cell_type": "code",
   "execution_count": 10,
   "id": "c92fb7a2",
   "metadata": {},
   "outputs": [],
   "source": [
    "## A constructor is a special method in a class that is automatically called when an object is created. \n",
    "# Its main purpose is to initialize the object’s attributes."
   ]
  },
  {
   "cell_type": "markdown",
   "id": "5b30b90e",
   "metadata": {},
   "source": [
    "\n",
    "* Defined using __init__() method.\n",
    "\n",
    "* Automatically executes when you create an object.\n",
    "\n",
    "* Can take parameters to assign values.\n",
    "\n"
   ]
  },
  {
   "cell_type": "code",
   "execution_count": 11,
   "id": "8042093b",
   "metadata": {},
   "outputs": [
    {
     "name": "stdout",
     "output_type": "stream",
     "text": [
      "Name: Chetan, Age: 24\n"
     ]
    }
   ],
   "source": [
    "class Person:\n",
    "    def __init__(self, name, age):  # Constructor\n",
    "        self.name = name\n",
    "        self.age = age\n",
    "\n",
    "    def show(self):\n",
    "        print(f\"Name: {self.name}, Age: {self.age}\")\n",
    "\n",
    "# Creating object (constructor is called)\n",
    "p1 = Person(\"Chetan\", 24)\n",
    "p1.show()"
   ]
  },
  {
   "cell_type": "code",
   "execution_count": 12,
   "id": "fb3121fb",
   "metadata": {},
   "outputs": [
    {
     "name": "stdout",
     "output_type": "stream",
     "text": [
      "This is a constructor\n"
     ]
    }
   ],
   "source": [
    "class Student:\n",
    "    def __init__(self):\n",
    "        print(\"This is a constructor\")\n",
    "\n",
    "# Object creation triggers constructor\n",
    "s1 = Student()"
   ]
  },
  {
   "cell_type": "markdown",
   "id": "09a404e6",
   "metadata": {},
   "source": [
    "### Types of constructor "
   ]
  },
  {
   "cell_type": "markdown",
   "id": "dc9cb90c",
   "metadata": {},
   "source": [
    "##### Default Constructor\n",
    " * A constructor that does not take any arguments (except self).\n",
    "\n",
    "* Used when no initial values are required during object creation."
   ]
  },
  {
   "cell_type": "code",
   "execution_count": 13,
   "id": "85a54522",
   "metadata": {},
   "outputs": [
    {
     "name": "stdout",
     "output_type": "stream",
     "text": [
      "Default Constructor Called\n"
     ]
    }
   ],
   "source": [
    "class Demo:\n",
    "    def __init__(self):  # Default constructor\n",
    "        print(\"Default Constructor Called\")\n",
    "\n",
    "obj = Demo()"
   ]
  },
  {
   "cell_type": "code",
   "execution_count": 14,
   "id": "77bac5ca",
   "metadata": {},
   "outputs": [
    {
     "name": "stdout",
     "output_type": "stream",
     "text": [
      "Name: Chetan, Course: Data Analytics\n"
     ]
    }
   ],
   "source": [
    "class Student:\n",
    "    def __init__(self):  # Default constructor (no parameters except self)\n",
    "        self.name = \"Chetan\"\n",
    "        self.course = \"Data Analytics\"\n",
    "\n",
    "    def show(self):\n",
    "        print(f\"Name: {self.name}, Course: {self.course}\")\n",
    "\n",
    "# Creating object (constructor is called automatically)\n",
    "s1 = Student()\n",
    "s1.show()"
   ]
  },
  {
   "cell_type": "markdown",
   "id": "eeff91be",
   "metadata": {},
   "source": [
    "###  Parameterized Constructor\n",
    " A constructor that takes arguments to initialize instance variables."
   ]
  },
  {
   "cell_type": "code",
   "execution_count": 15,
   "id": "dffed2a6",
   "metadata": {},
   "outputs": [
    {
     "name": "stdout",
     "output_type": "stream",
     "text": [
      "Name: Chetan, Age: 24\n"
     ]
    }
   ],
   "source": [
    "class Person:\n",
    "    def __init__(self, name, age):  # Parameterized constructor\n",
    "        self.name = name\n",
    "        self.age = age\n",
    "\n",
    "    def show(self):\n",
    "        print(f\"Name: {self.name}, Age: {self.age}\")\n",
    "\n",
    "p1 = Person(\"Chetan\", 24)\n",
    "p1.show()"
   ]
  },
  {
   "cell_type": "code",
   "execution_count": 16,
   "id": "bfbba41f",
   "metadata": {},
   "outputs": [
    {
     "name": "stdout",
     "output_type": "stream",
     "text": [
      "Name: Chetan, Salary: ₹50000\n"
     ]
    }
   ],
   "source": [
    "class Employee:\n",
    "    def __init__(self, name, salary):  # Parameterized constructor\n",
    "        self.name = name\n",
    "        self.salary = salary\n",
    "\n",
    "    def display(self):\n",
    "        print(f\"Name: {self.name}, Salary: ₹{self.salary}\")\n",
    "\n",
    "# Creating object with arguments\n",
    "emp1 = Employee(\"Chetan\", 50000)\n",
    "emp1.display()"
   ]
  },
  {
   "cell_type": "code",
   "execution_count": null,
   "id": "bdbd84c7",
   "metadata": {},
   "outputs": [],
   "source": []
  }
 ],
 "metadata": {
  "kernelspec": {
   "display_name": "Python 3 (ipykernel)",
   "language": "python",
   "name": "python3"
  },
  "language_info": {
   "codemirror_mode": {
    "name": "ipython",
    "version": 3
   },
   "file_extension": ".py",
   "mimetype": "text/x-python",
   "name": "python",
   "nbconvert_exporter": "python",
   "pygments_lexer": "ipython3",
   "version": "3.9.12"
  }
 },
 "nbformat": 4,
 "nbformat_minor": 5
}
